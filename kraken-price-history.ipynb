{
 "cells": [
  {
   "cell_type": "code",
   "execution_count": null,
   "metadata": {
    "dotnet_interactive": {
     "language": "csharp"
    }
   },
   "outputs": [
    {
     "data": {
      "text/html": [
       "<div><div></div><div></div><div><strong>Installed Packages</strong><ul><li><span>KrakenExchange.Net, 2.2.3</span></li></ul></div></div>"
      ]
     },
     "metadata": {},
     "output_type": "display_data"
    }
   ],
   "source": [
    "#r \"nuget: KrakenExchange.Net\""
   ]
  },
  {
   "cell_type": "code",
   "execution_count": null,
   "metadata": {
    "dotnet_interactive": {
     "language": "csharp"
    }
   },
   "outputs": [],
   "source": [
    "using Kraken.Net;\n",
    "using Kraken.Net.Objects;"
   ]
  },
  {
   "cell_type": "code",
   "execution_count": null,
   "metadata": {
    "dotnet_interactive": {
     "language": "csharp"
    }
   },
   "outputs": [],
   "source": [
    "var client = new KrakenClient(new KrakenClientOptions() {});"
   ]
  },
  {
   "cell_type": "code",
   "execution_count": null,
   "metadata": {
    "dotnet_interactive": {
     "language": "csharp"
    }
   },
   "outputs": [
    {
     "data": {
      "text/html": [
       "<table><thead><tr><th>Timestamp</th><th>Open</th><th>High</th><th>Low</th><th>Close</th><th>VolumeWeightedAveragePrice</th><th>Volume</th><th>TradeCount</th></tr></thead><tbody><tr><td><div class=\"dni-plaintext\">2013-09-27 00:00:00Z</div></td><td><div class=\"dni-plaintext\">123.9</div></td><td><div class=\"dni-plaintext\">123.9</div></td><td><div class=\"dni-plaintext\">123.9</div></td><td><div class=\"dni-plaintext\">123.9</div></td><td><div class=\"dni-plaintext\">123.9</div></td><td><div class=\"dni-plaintext\">1.99160000</div></td><td><div class=\"dni-plaintext\">2</div></td></tr></tbody></table>"
      ]
     },
     "metadata": {},
     "output_type": "display_data"
    },
    {
     "data": {
      "text/html": [
       "<table><thead><tr><th>Timestamp</th><th>Open</th><th>High</th><th>Low</th><th>Close</th><th>VolumeWeightedAveragePrice</th><th>Volume</th><th>TradeCount</th></tr></thead><tbody><tr><td><div class=\"dni-plaintext\">2021-11-29 00:00:00Z</div></td><td><div class=\"dni-plaintext\">57300.0</div></td><td><div class=\"dni-plaintext\">59230.0</div></td><td><div class=\"dni-plaintext\">55932.6</div></td><td><div class=\"dni-plaintext\">58122.2</div></td><td><div class=\"dni-plaintext\">57664.7</div></td><td><div class=\"dni-plaintext\">9465.47691212</div></td><td><div class=\"dni-plaintext\">112561</div></td></tr></tbody></table>"
      ]
     },
     "metadata": {},
     "output_type": "display_data"
    },
    {
     "data": {
      "text/html": [
       "<table><thead><tr><th><i>index</i></th><th>Timestamp</th><th>Open</th><th>High</th><th>Low</th><th>Close</th><th>VolumeWeightedAveragePrice</th><th>Volume</th><th>TradeCount</th></tr></thead><tbody><tr><td>0</td><td><span>2013-09-27 00:00:00Z</span></td><td><div class=\"dni-plaintext\">123.9</div></td><td><div class=\"dni-plaintext\">123.9</div></td><td><div class=\"dni-plaintext\">123.9</div></td><td><div class=\"dni-plaintext\">123.9</div></td><td><div class=\"dni-plaintext\">123.9</div></td><td><div class=\"dni-plaintext\">1.99160000</div></td><td><div class=\"dni-plaintext\">2</div></td></tr><tr><td>1</td><td><span>2013-10-12 00:00:00Z</span></td><td><div class=\"dni-plaintext\">134.5</div></td><td><div class=\"dni-plaintext\">207.3</div></td><td><div class=\"dni-plaintext\">133.8</div></td><td><div class=\"dni-plaintext\">184.5</div></td><td><div class=\"dni-plaintext\">185.9</div></td><td><div class=\"dni-plaintext\">137.12971349</div></td><td><div class=\"dni-plaintext\">111</div></td></tr><tr><td>2</td><td><span>2013-10-27 00:00:00Z</span></td><td><div class=\"dni-plaintext\">182.3</div></td><td><div class=\"dni-plaintext\">4000.0</div></td><td><div class=\"dni-plaintext\">181.3</div></td><td><div class=\"dni-plaintext\">311.0</div></td><td><div class=\"dni-plaintext\">250.9</div></td><td><div class=\"dni-plaintext\">144.77908120</div></td><td><div class=\"dni-plaintext\">200</div></td></tr><tr><td>3</td><td><span>2013-11-11 00:00:00Z</span></td><td><div class=\"dni-plaintext\">350.5</div></td><td><div class=\"dni-plaintext\">4000.0</div></td><td><div class=\"dni-plaintext\">337.7</div></td><td><div class=\"dni-plaintext\">801.5</div></td><td><div class=\"dni-plaintext\">584.8</div></td><td><div class=\"dni-plaintext\">338.83509698</div></td><td><div class=\"dni-plaintext\">1107</div></td></tr><tr><td>4</td><td><span>2013-11-26 00:00:00Z</span></td><td><div class=\"dni-plaintext\">801.5</div></td><td><div class=\"dni-plaintext\">1198.8</div></td><td><div class=\"dni-plaintext\">600.9</div></td><td><div class=\"dni-plaintext\">959.1</div></td><td><div class=\"dni-plaintext\">920.0</div></td><td><div class=\"dni-plaintext\">454.01938114</div></td><td><div class=\"dni-plaintext\">3591</div></td></tr><tr><td>5</td><td><span>2013-12-11 00:00:00Z</span></td><td><div class=\"dni-plaintext\">954.6</div></td><td><div class=\"dni-plaintext\">979.2</div></td><td><div class=\"dni-plaintext\">380.0</div></td><td><div class=\"dni-plaintext\">676.0</div></td><td><div class=\"dni-plaintext\">681.3</div></td><td><div class=\"dni-plaintext\">316.35416091</div></td><td><div class=\"dni-plaintext\">2674</div></td></tr><tr><td>6</td><td><span>2013-12-26 00:00:00Z</span></td><td><div class=\"dni-plaintext\">684.5</div></td><td><div class=\"dni-plaintext\">1019.0</div></td><td><div class=\"dni-plaintext\">677.9</div></td><td><div class=\"dni-plaintext\">850.2</div></td><td><div class=\"dni-plaintext\">823.0</div></td><td><div class=\"dni-plaintext\">138.31586991</div></td><td><div class=\"dni-plaintext\">1439</div></td></tr><tr><td>7</td><td><span>2014-01-10 00:00:00Z</span></td><td><div class=\"dni-plaintext\">839.9</div></td><td><div class=\"dni-plaintext\">918.0</div></td><td><div class=\"dni-plaintext\">783.0</div></td><td><div class=\"dni-plaintext\">794.9</div></td><td><div class=\"dni-plaintext\">835.5</div></td><td><div class=\"dni-plaintext\">118.36584482</div></td><td><div class=\"dni-plaintext\">770</div></td></tr><tr><td>8</td><td><span>2014-01-25 00:00:00Z</span></td><td><div class=\"dni-plaintext\">803.0</div></td><td><div class=\"dni-plaintext\">840.0</div></td><td><div class=\"dni-plaintext\">666.3</div></td><td><div class=\"dni-plaintext\">706.4</div></td><td><div class=\"dni-plaintext\">794.0</div></td><td><div class=\"dni-plaintext\">144.77705405</div></td><td><div class=\"dni-plaintext\">657</div></td></tr><tr><td>9</td><td><span>2014-02-09 00:00:00Z</span></td><td><div class=\"dni-plaintext\">685.4</div></td><td><div class=\"dni-plaintext\">736.5</div></td><td><div class=\"dni-plaintext\">547.7</div></td><td><div class=\"dni-plaintext\">616.8</div></td><td><div class=\"dni-plaintext\">630.5</div></td><td><div class=\"dni-plaintext\">166.83579344</div></td><td><div class=\"dni-plaintext\">1549</div></td></tr><tr><td>10</td><td><span>2014-02-24 00:00:00Z</span></td><td><div class=\"dni-plaintext\">610.9</div></td><td><div class=\"dni-plaintext\">720.0</div></td><td><div class=\"dni-plaintext\">461.4</div></td><td><div class=\"dni-plaintext\">642.0</div></td><td><div class=\"dni-plaintext\">604.8</div></td><td><div class=\"dni-plaintext\">236.12873178</div></td><td><div class=\"dni-plaintext\">1494</div></td></tr><tr><td>11</td><td><span>2014-03-11 00:00:00Z</span></td><td><div class=\"dni-plaintext\">646.9</div></td><td><div class=\"dni-plaintext\">665.9</div></td><td><div class=\"dni-plaintext\">550.0</div></td><td><div class=\"dni-plaintext\">579.0</div></td><td><div class=\"dni-plaintext\">612.5</div></td><td><div class=\"dni-plaintext\">92.22518026</div></td><td><div class=\"dni-plaintext\">777</div></td></tr><tr><td>12</td><td><span>2014-03-26 00:00:00Z</span></td><td><div class=\"dni-plaintext\">579.0</div></td><td><div class=\"dni-plaintext\">641.1</div></td><td><div class=\"dni-plaintext\">430.0</div></td><td><div class=\"dni-plaintext\">461.0</div></td><td><div class=\"dni-plaintext\">506.4</div></td><td><div class=\"dni-plaintext\">102.62494314</div></td><td><div class=\"dni-plaintext\">1176</div></td></tr><tr><td>13</td><td><span>2014-04-10 00:00:00Z</span></td><td><div class=\"dni-plaintext\">450.0</div></td><td><div class=\"dni-plaintext\">583.7</div></td><td><div class=\"dni-plaintext\">353.7</div></td><td><div class=\"dni-plaintext\">503.4</div></td><td><div class=\"dni-plaintext\">475.2</div></td><td><div class=\"dni-plaintext\">176.64422807</div></td><td><div class=\"dni-plaintext\">1032</div></td></tr><tr><td>14</td><td><span>2014-04-25 00:00:00Z</span></td><td><div class=\"dni-plaintext\">496.6</div></td><td><div class=\"dni-plaintext\">496.6</div></td><td><div class=\"dni-plaintext\">428.9</div></td><td><div class=\"dni-plaintext\">450.6</div></td><td><div class=\"dni-plaintext\">453.6</div></td><td><div class=\"dni-plaintext\">59.03612451</div></td><td><div class=\"dni-plaintext\">254</div></td></tr><tr><td>15</td><td><span>2014-05-10 00:00:00Z</span></td><td><div class=\"dni-plaintext\">446.5</div></td><td><div class=\"dni-plaintext\">548.0</div></td><td><div class=\"dni-plaintext\">432.2</div></td><td><div class=\"dni-plaintext\">525.3</div></td><td><div class=\"dni-plaintext\">471.4</div></td><td><div class=\"dni-plaintext\">35.78034379</div></td><td><div class=\"dni-plaintext\">216</div></td></tr><tr><td>16</td><td><span>2014-05-25 00:00:00Z</span></td><td><div class=\"dni-plaintext\">530.5</div></td><td><div class=\"dni-plaintext\">677.9</div></td><td><div class=\"dni-plaintext\">530.5</div></td><td><div class=\"dni-plaintext\">656.4</div></td><td><div class=\"dni-plaintext\">628.2</div></td><td><div class=\"dni-plaintext\">110.24965458</div></td><td><div class=\"dni-plaintext\">388</div></td></tr><tr><td>17</td><td><span>2014-06-09 00:00:00Z</span></td><td><div class=\"dni-plaintext\">643.4</div></td><td><div class=\"dni-plaintext\">657.7</div></td><td><div class=\"dni-plaintext\">534.2</div></td><td><div class=\"dni-plaintext\">590.2</div></td><td><div class=\"dni-plaintext\">596.4</div></td><td><div class=\"dni-plaintext\">80.00664257</div></td><td><div class=\"dni-plaintext\">500</div></td></tr><tr><td>18</td><td><span>2014-06-24 00:00:00Z</span></td><td><div class=\"dni-plaintext\">590.2</div></td><td><div class=\"dni-plaintext\">658.8</div></td><td><div class=\"dni-plaintext\">557.4</div></td><td><div class=\"dni-plaintext\">626.8</div></td><td><div class=\"dni-plaintext\">615.4</div></td><td><div class=\"dni-plaintext\">95.92479742</div></td><td><div class=\"dni-plaintext\">293</div></td></tr><tr><td>19</td><td><span>2014-07-09 00:00:00Z</span></td><td><div class=\"dni-plaintext\">626.9</div></td><td><div class=\"dni-plaintext\">653.4</div></td><td><div class=\"dni-plaintext\">610.0</div></td><td><div class=\"dni-plaintext\">618.6</div></td><td><div class=\"dni-plaintext\">617.5</div></td><td><div class=\"dni-plaintext\">23.02584537</div></td><td><div class=\"dni-plaintext\">86</div></td></tr><tr><td colspan=\"9\">(180 more)</td></tr></tbody></table>"
      ]
     },
     "metadata": {},
     "output_type": "display_data"
    }
   ],
   "source": [
    "var result_kline = client.GetKlinesAsync(\"BTCUSD\", KlineInterval.FifteenDays).Result;\n",
    "\n",
    "display(result_kline.Data.Data.First());\n",
    "display(result_kline.Data.Data.Last());\n",
    "display(result_kline.Data.Data);"
   ]
  },
  {
   "cell_type": "code",
   "execution_count": null,
   "metadata": {
    "dotnet_interactive": {
     "language": "csharp"
    }
   },
   "outputs": [
    {
     "data": {
      "text/html": [
       "<table><thead><tr><th>Timestamp</th><th>Open</th><th>High</th><th>Low</th><th>Close</th><th>VolumeWeightedAveragePrice</th><th>Volume</th><th>TradeCount</th></tr></thead><tbody><tr><td><div class=\"dni-plaintext\">2019-12-13 00:00:00Z</div></td><td><div class=\"dni-plaintext\">7190.2</div></td><td><div class=\"dni-plaintext\">7300.0</div></td><td><div class=\"dni-plaintext\">7182.7</div></td><td><div class=\"dni-plaintext\">7251.9</div></td><td><div class=\"dni-plaintext\">7241.8</div></td><td><div class=\"dni-plaintext\">2900.50069874</div></td><td><div class=\"dni-plaintext\">7836</div></td></tr></tbody></table>"
      ]
     },
     "metadata": {},
     "output_type": "display_data"
    },
    {
     "data": {
      "text/html": [
       "<table><thead><tr><th>Timestamp</th><th>Open</th><th>High</th><th>Low</th><th>Close</th><th>VolumeWeightedAveragePrice</th><th>Volume</th><th>TradeCount</th></tr></thead><tbody><tr><td><div class=\"dni-plaintext\">2021-12-01 00:00:00Z</div></td><td><div class=\"dni-plaintext\">57007.4</div></td><td><div class=\"dni-plaintext\">59090.7</div></td><td><div class=\"dni-plaintext\">56681.9</div></td><td><div class=\"dni-plaintext\">58103.6</div></td><td><div class=\"dni-plaintext\">57584.1</div></td><td><div class=\"dni-plaintext\">2613.56253262</div></td><td><div class=\"dni-plaintext\">27545</div></td></tr></tbody></table>"
      ]
     },
     "metadata": {},
     "output_type": "display_data"
    },
    {
     "data": {
      "text/html": [
       "<table><thead><tr><th><i>index</i></th><th>Timestamp</th><th>Open</th><th>High</th><th>Low</th><th>Close</th><th>VolumeWeightedAveragePrice</th><th>Volume</th><th>TradeCount</th></tr></thead><tbody><tr><td>0</td><td><span>2019-12-13 00:00:00Z</span></td><td><div class=\"dni-plaintext\">7190.2</div></td><td><div class=\"dni-plaintext\">7300.0</div></td><td><div class=\"dni-plaintext\">7182.7</div></td><td><div class=\"dni-plaintext\">7251.9</div></td><td><div class=\"dni-plaintext\">7241.8</div></td><td><div class=\"dni-plaintext\">2900.50069874</div></td><td><div class=\"dni-plaintext\">7836</div></td></tr><tr><td>1</td><td><span>2019-12-14 00:00:00Z</span></td><td><div class=\"dni-plaintext\">7251.9</div></td><td><div class=\"dni-plaintext\">7272.1</div></td><td><div class=\"dni-plaintext\">7010.0</div></td><td><div class=\"dni-plaintext\">7067.5</div></td><td><div class=\"dni-plaintext\">7132.1</div></td><td><div class=\"dni-plaintext\">2770.37930834</div></td><td><div class=\"dni-plaintext\">8031</div></td></tr><tr><td>2</td><td><span>2019-12-15 00:00:00Z</span></td><td><div class=\"dni-plaintext\">7067.5</div></td><td><div class=\"dni-plaintext\">7203.0</div></td><td><div class=\"dni-plaintext\">7010.0</div></td><td><div class=\"dni-plaintext\">7113.7</div></td><td><div class=\"dni-plaintext\">7092.5</div></td><td><div class=\"dni-plaintext\">2347.93806361</div></td><td><div class=\"dni-plaintext\">6660</div></td></tr><tr><td>3</td><td><span>2019-12-16 00:00:00Z</span></td><td><div class=\"dni-plaintext\">7112.8</div></td><td><div class=\"dni-plaintext\">7140.0</div></td><td><div class=\"dni-plaintext\">6800.0</div></td><td><div class=\"dni-plaintext\">6876.7</div></td><td><div class=\"dni-plaintext\">6975.2</div></td><td><div class=\"dni-plaintext\">5102.80519991</div></td><td><div class=\"dni-plaintext\">12948</div></td></tr><tr><td>4</td><td><span>2019-12-17 00:00:00Z</span></td><td><div class=\"dni-plaintext\">6877.4</div></td><td><div class=\"dni-plaintext\">6939.0</div></td><td><div class=\"dni-plaintext\">6563.0</div></td><td><div class=\"dni-plaintext\">6611.1</div></td><td><div class=\"dni-plaintext\">6721.2</div></td><td><div class=\"dni-plaintext\">6131.25752861</div></td><td><div class=\"dni-plaintext\">16220</div></td></tr><tr><td>5</td><td><span>2019-12-18 00:00:00Z</span></td><td><div class=\"dni-plaintext\">6612.9</div></td><td><div class=\"dni-plaintext\">7488.2</div></td><td><div class=\"dni-plaintext\">6430.2</div></td><td><div class=\"dni-plaintext\">7287.9</div></td><td><div class=\"dni-plaintext\">6879.6</div></td><td><div class=\"dni-plaintext\">11212.51153387</div></td><td><div class=\"dni-plaintext\">27241</div></td></tr><tr><td>6</td><td><span>2019-12-19 00:00:00Z</span></td><td><div class=\"dni-plaintext\">7293.4</div></td><td><div class=\"dni-plaintext\">7379.8</div></td><td><div class=\"dni-plaintext\">7045.0</div></td><td><div class=\"dni-plaintext\">7149.8</div></td><td><div class=\"dni-plaintext\">7160.1</div></td><td><div class=\"dni-plaintext\">5337.33561706</div></td><td><div class=\"dni-plaintext\">12060</div></td></tr><tr><td>7</td><td><span>2019-12-20 00:00:00Z</span></td><td><div class=\"dni-plaintext\">7150.5</div></td><td><div class=\"dni-plaintext\">7218.0</div></td><td><div class=\"dni-plaintext\">7076.7</div></td><td><div class=\"dni-plaintext\">7191.5</div></td><td><div class=\"dni-plaintext\">7152.7</div></td><td><div class=\"dni-plaintext\">3440.04081588</div></td><td><div class=\"dni-plaintext\">7706</div></td></tr><tr><td>8</td><td><span>2019-12-21 00:00:00Z</span></td><td><div class=\"dni-plaintext\">7191.6</div></td><td><div class=\"dni-plaintext\">7191.6</div></td><td><div class=\"dni-plaintext\">7117.6</div></td><td><div class=\"dni-plaintext\">7143.5</div></td><td><div class=\"dni-plaintext\">7145.3</div></td><td><div class=\"dni-plaintext\">1353.22286945</div></td><td><div class=\"dni-plaintext\">4297</div></td></tr><tr><td>9</td><td><span>2019-12-22 00:00:00Z</span></td><td><div class=\"dni-plaintext\">7143.5</div></td><td><div class=\"dni-plaintext\">7526.9</div></td><td><div class=\"dni-plaintext\">7124.0</div></td><td><div class=\"dni-plaintext\">7510.0</div></td><td><div class=\"dni-plaintext\">7339.0</div></td><td><div class=\"dni-plaintext\">4534.82935907</div></td><td><div class=\"dni-plaintext\">10758</div></td></tr><tr><td>10</td><td><span>2019-12-23 00:00:00Z</span></td><td><div class=\"dni-plaintext\">7510.1</div></td><td><div class=\"dni-plaintext\">7690.5</div></td><td><div class=\"dni-plaintext\">7265.0</div></td><td><div class=\"dni-plaintext\">7324.0</div></td><td><div class=\"dni-plaintext\">7501.0</div></td><td><div class=\"dni-plaintext\">7541.52758700</div></td><td><div class=\"dni-plaintext\">16521</div></td></tr><tr><td>11</td><td><span>2019-12-24 00:00:00Z</span></td><td><div class=\"dni-plaintext\">7315.2</div></td><td><div class=\"dni-plaintext\">7420.4</div></td><td><div class=\"dni-plaintext\">7160.0</div></td><td><div class=\"dni-plaintext\">7253.3</div></td><td><div class=\"dni-plaintext\">7288.5</div></td><td><div class=\"dni-plaintext\">4866.13430740</div></td><td><div class=\"dni-plaintext\">11026</div></td></tr><tr><td>12</td><td><span>2019-12-25 00:00:00Z</span></td><td><div class=\"dni-plaintext\">7252.9</div></td><td><div class=\"dni-plaintext\">7271.8</div></td><td><div class=\"dni-plaintext\">7116.1</div></td><td><div class=\"dni-plaintext\">7192.1</div></td><td><div class=\"dni-plaintext\">7197.1</div></td><td><div class=\"dni-plaintext\">3360.65679731</div></td><td><div class=\"dni-plaintext\">7579</div></td></tr><tr><td>13</td><td><span>2019-12-26 00:00:00Z</span></td><td><div class=\"dni-plaintext\">7193.0</div></td><td><div class=\"dni-plaintext\">7428.9</div></td><td><div class=\"dni-plaintext\">7150.0</div></td><td><div class=\"dni-plaintext\">7195.5</div></td><td><div class=\"dni-plaintext\">7250.4</div></td><td><div class=\"dni-plaintext\">3667.03100747</div></td><td><div class=\"dni-plaintext\">10268</div></td></tr><tr><td>14</td><td><span>2019-12-27 00:00:00Z</span></td><td><div class=\"dni-plaintext\">7196.4</div></td><td><div class=\"dni-plaintext\">7255.0</div></td><td><div class=\"dni-plaintext\">6934.8</div></td><td><div class=\"dni-plaintext\">7246.4</div></td><td><div class=\"dni-plaintext\">7165.4</div></td><td><div class=\"dni-plaintext\">3927.39409090</div></td><td><div class=\"dni-plaintext\">10764</div></td></tr><tr><td>15</td><td><span>2019-12-28 00:00:00Z</span></td><td><div class=\"dni-plaintext\">7246.6</div></td><td><div class=\"dni-plaintext\">7350.0</div></td><td><div class=\"dni-plaintext\">7234.9</div></td><td><div class=\"dni-plaintext\">7300.1</div></td><td><div class=\"dni-plaintext\">7300.6</div></td><td><div class=\"dni-plaintext\">2522.15801625</div></td><td><div class=\"dni-plaintext\">6891</div></td></tr><tr><td>16</td><td><span>2019-12-29 00:00:00Z</span></td><td><div class=\"dni-plaintext\">7300.6</div></td><td><div class=\"dni-plaintext\">7531.4</div></td><td><div class=\"dni-plaintext\">7280.0</div></td><td><div class=\"dni-plaintext\">7391.0</div></td><td><div class=\"dni-plaintext\">7393.8</div></td><td><div class=\"dni-plaintext\">3018.85255099</div></td><td><div class=\"dni-plaintext\">9257</div></td></tr><tr><td>17</td><td><span>2019-12-30 00:00:00Z</span></td><td><div class=\"dni-plaintext\">7383.4</div></td><td><div class=\"dni-plaintext\">7383.4</div></td><td><div class=\"dni-plaintext\">7200.0</div></td><td><div class=\"dni-plaintext\">7209.7</div></td><td><div class=\"dni-plaintext\">7273.6</div></td><td><div class=\"dni-plaintext\">3737.33575952</div></td><td><div class=\"dni-plaintext\">8486</div></td></tr><tr><td>18</td><td><span>2019-12-31 00:00:00Z</span></td><td><div class=\"dni-plaintext\">7216.4</div></td><td><div class=\"dni-plaintext\">7301.1</div></td><td><div class=\"dni-plaintext\">7110.0</div></td><td><div class=\"dni-plaintext\">7168.3</div></td><td><div class=\"dni-plaintext\">7192.9</div></td><td><div class=\"dni-plaintext\">2652.13508878</div></td><td><div class=\"dni-plaintext\">7734</div></td></tr><tr><td>19</td><td><span>2020-01-01 00:00:00Z</span></td><td><div class=\"dni-plaintext\">7168.3</div></td><td><div class=\"dni-plaintext\">7235.0</div></td><td><div class=\"dni-plaintext\">7150.0</div></td><td><div class=\"dni-plaintext\">7174.4</div></td><td><div class=\"dni-plaintext\">7196.5</div></td><td><div class=\"dni-plaintext\">1827.63489373</div></td><td><div class=\"dni-plaintext\">5611</div></td></tr><tr><td colspan=\"9\">(700 more)</td></tr></tbody></table>"
      ]
     },
     "metadata": {},
     "output_type": "display_data"
    }
   ],
   "source": [
    "var result_kline = client.GetKlinesAsync(\"BTCUSD\", KlineInterval.OneDay, new DateTime(2013, 1, 1)).Result;\n",
    "\n",
    "display(result_kline.Data.Data.First());\n",
    "display(result_kline.Data.Data.Last());\n",
    "display(result_kline.Data.Data);"
   ]
  },
  {
   "cell_type": "code",
   "execution_count": null,
   "metadata": {
    "dotnet_interactive": {
     "language": "csharp"
    }
   },
   "outputs": [
    {
     "data": {
      "text/html": [
       "<table><thead><tr><th>Timestamp</th><th>Open</th><th>High</th><th>Low</th><th>Close</th><th>VolumeWeightedAveragePrice</th><th>Volume</th><th>TradeCount</th></tr></thead><tbody><tr><td><div class=\"dni-plaintext\">2013-09-27 00:00:00Z</div></td><td><div class=\"dni-plaintext\">123.9</div></td><td><div class=\"dni-plaintext\">123.9</div></td><td><div class=\"dni-plaintext\">123.9</div></td><td><div class=\"dni-plaintext\">123.9</div></td><td><div class=\"dni-plaintext\">123.9</div></td><td><div class=\"dni-plaintext\">1.99160000</div></td><td><div class=\"dni-plaintext\">2</div></td></tr></tbody></table>"
      ]
     },
     "metadata": {},
     "output_type": "display_data"
    },
    {
     "data": {
      "text/html": [
       "<table><thead><tr><th>Timestamp</th><th>Open</th><th>High</th><th>Low</th><th>Close</th><th>VolumeWeightedAveragePrice</th><th>Volume</th><th>TradeCount</th></tr></thead><tbody><tr><td><div class=\"dni-plaintext\">2021-11-29 00:00:00Z</div></td><td><div class=\"dni-plaintext\">57300.0</div></td><td><div class=\"dni-plaintext\">59230.0</div></td><td><div class=\"dni-plaintext\">55932.6</div></td><td><div class=\"dni-plaintext\">58098.8</div></td><td><div class=\"dni-plaintext\">57665.1</div></td><td><div class=\"dni-plaintext\">9473.89837587</div></td><td><div class=\"dni-plaintext\">112651</div></td></tr></tbody></table>"
      ]
     },
     "metadata": {},
     "output_type": "display_data"
    },
    {
     "data": {
      "text/html": [
       "<table><thead><tr><th><i>index</i></th><th>Timestamp</th><th>Open</th><th>High</th><th>Low</th><th>Close</th><th>VolumeWeightedAveragePrice</th><th>Volume</th><th>TradeCount</th></tr></thead><tbody><tr><td>0</td><td><span>2013-09-27 00:00:00Z</span></td><td><div class=\"dni-plaintext\">123.9</div></td><td><div class=\"dni-plaintext\">123.9</div></td><td><div class=\"dni-plaintext\">123.9</div></td><td><div class=\"dni-plaintext\">123.9</div></td><td><div class=\"dni-plaintext\">123.9</div></td><td><div class=\"dni-plaintext\">1.99160000</div></td><td><div class=\"dni-plaintext\">2</div></td></tr><tr><td>1</td><td><span>2013-10-12 00:00:00Z</span></td><td><div class=\"dni-plaintext\">134.5</div></td><td><div class=\"dni-plaintext\">207.3</div></td><td><div class=\"dni-plaintext\">133.8</div></td><td><div class=\"dni-plaintext\">184.5</div></td><td><div class=\"dni-plaintext\">185.9</div></td><td><div class=\"dni-plaintext\">137.12971349</div></td><td><div class=\"dni-plaintext\">111</div></td></tr><tr><td>2</td><td><span>2013-10-27 00:00:00Z</span></td><td><div class=\"dni-plaintext\">182.3</div></td><td><div class=\"dni-plaintext\">4000.0</div></td><td><div class=\"dni-plaintext\">181.3</div></td><td><div class=\"dni-plaintext\">311.0</div></td><td><div class=\"dni-plaintext\">250.9</div></td><td><div class=\"dni-plaintext\">144.77908120</div></td><td><div class=\"dni-plaintext\">200</div></td></tr><tr><td>3</td><td><span>2013-11-11 00:00:00Z</span></td><td><div class=\"dni-plaintext\">350.5</div></td><td><div class=\"dni-plaintext\">4000.0</div></td><td><div class=\"dni-plaintext\">337.7</div></td><td><div class=\"dni-plaintext\">801.5</div></td><td><div class=\"dni-plaintext\">584.8</div></td><td><div class=\"dni-plaintext\">338.83509698</div></td><td><div class=\"dni-plaintext\">1107</div></td></tr><tr><td>4</td><td><span>2013-11-26 00:00:00Z</span></td><td><div class=\"dni-plaintext\">801.5</div></td><td><div class=\"dni-plaintext\">1198.8</div></td><td><div class=\"dni-plaintext\">600.9</div></td><td><div class=\"dni-plaintext\">959.1</div></td><td><div class=\"dni-plaintext\">920.0</div></td><td><div class=\"dni-plaintext\">454.01938114</div></td><td><div class=\"dni-plaintext\">3591</div></td></tr><tr><td>5</td><td><span>2013-12-11 00:00:00Z</span></td><td><div class=\"dni-plaintext\">954.6</div></td><td><div class=\"dni-plaintext\">979.2</div></td><td><div class=\"dni-plaintext\">380.0</div></td><td><div class=\"dni-plaintext\">676.0</div></td><td><div class=\"dni-plaintext\">681.3</div></td><td><div class=\"dni-plaintext\">316.35416091</div></td><td><div class=\"dni-plaintext\">2674</div></td></tr><tr><td>6</td><td><span>2013-12-26 00:00:00Z</span></td><td><div class=\"dni-plaintext\">684.5</div></td><td><div class=\"dni-plaintext\">1019.0</div></td><td><div class=\"dni-plaintext\">677.9</div></td><td><div class=\"dni-plaintext\">850.2</div></td><td><div class=\"dni-plaintext\">823.0</div></td><td><div class=\"dni-plaintext\">138.31586991</div></td><td><div class=\"dni-plaintext\">1439</div></td></tr><tr><td>7</td><td><span>2014-01-10 00:00:00Z</span></td><td><div class=\"dni-plaintext\">839.9</div></td><td><div class=\"dni-plaintext\">918.0</div></td><td><div class=\"dni-plaintext\">783.0</div></td><td><div class=\"dni-plaintext\">794.9</div></td><td><div class=\"dni-plaintext\">835.5</div></td><td><div class=\"dni-plaintext\">118.36584482</div></td><td><div class=\"dni-plaintext\">770</div></td></tr><tr><td>8</td><td><span>2014-01-25 00:00:00Z</span></td><td><div class=\"dni-plaintext\">803.0</div></td><td><div class=\"dni-plaintext\">840.0</div></td><td><div class=\"dni-plaintext\">666.3</div></td><td><div class=\"dni-plaintext\">706.4</div></td><td><div class=\"dni-plaintext\">794.0</div></td><td><div class=\"dni-plaintext\">144.77705405</div></td><td><div class=\"dni-plaintext\">657</div></td></tr><tr><td>9</td><td><span>2014-02-09 00:00:00Z</span></td><td><div class=\"dni-plaintext\">685.4</div></td><td><div class=\"dni-plaintext\">736.5</div></td><td><div class=\"dni-plaintext\">547.7</div></td><td><div class=\"dni-plaintext\">616.8</div></td><td><div class=\"dni-plaintext\">630.5</div></td><td><div class=\"dni-plaintext\">166.83579344</div></td><td><div class=\"dni-plaintext\">1549</div></td></tr><tr><td>10</td><td><span>2014-02-24 00:00:00Z</span></td><td><div class=\"dni-plaintext\">610.9</div></td><td><div class=\"dni-plaintext\">720.0</div></td><td><div class=\"dni-plaintext\">461.4</div></td><td><div class=\"dni-plaintext\">642.0</div></td><td><div class=\"dni-plaintext\">604.8</div></td><td><div class=\"dni-plaintext\">236.12873178</div></td><td><div class=\"dni-plaintext\">1494</div></td></tr><tr><td>11</td><td><span>2014-03-11 00:00:00Z</span></td><td><div class=\"dni-plaintext\">646.9</div></td><td><div class=\"dni-plaintext\">665.9</div></td><td><div class=\"dni-plaintext\">550.0</div></td><td><div class=\"dni-plaintext\">579.0</div></td><td><div class=\"dni-plaintext\">612.5</div></td><td><div class=\"dni-plaintext\">92.22518026</div></td><td><div class=\"dni-plaintext\">777</div></td></tr><tr><td>12</td><td><span>2014-03-26 00:00:00Z</span></td><td><div class=\"dni-plaintext\">579.0</div></td><td><div class=\"dni-plaintext\">641.1</div></td><td><div class=\"dni-plaintext\">430.0</div></td><td><div class=\"dni-plaintext\">461.0</div></td><td><div class=\"dni-plaintext\">506.4</div></td><td><div class=\"dni-plaintext\">102.62494314</div></td><td><div class=\"dni-plaintext\">1176</div></td></tr><tr><td>13</td><td><span>2014-04-10 00:00:00Z</span></td><td><div class=\"dni-plaintext\">450.0</div></td><td><div class=\"dni-plaintext\">583.7</div></td><td><div class=\"dni-plaintext\">353.7</div></td><td><div class=\"dni-plaintext\">503.4</div></td><td><div class=\"dni-plaintext\">475.2</div></td><td><div class=\"dni-plaintext\">176.64422807</div></td><td><div class=\"dni-plaintext\">1032</div></td></tr><tr><td>14</td><td><span>2014-04-25 00:00:00Z</span></td><td><div class=\"dni-plaintext\">496.6</div></td><td><div class=\"dni-plaintext\">496.6</div></td><td><div class=\"dni-plaintext\">428.9</div></td><td><div class=\"dni-plaintext\">450.6</div></td><td><div class=\"dni-plaintext\">453.6</div></td><td><div class=\"dni-plaintext\">59.03612451</div></td><td><div class=\"dni-plaintext\">254</div></td></tr><tr><td>15</td><td><span>2014-05-10 00:00:00Z</span></td><td><div class=\"dni-plaintext\">446.5</div></td><td><div class=\"dni-plaintext\">548.0</div></td><td><div class=\"dni-plaintext\">432.2</div></td><td><div class=\"dni-plaintext\">525.3</div></td><td><div class=\"dni-plaintext\">471.4</div></td><td><div class=\"dni-plaintext\">35.78034379</div></td><td><div class=\"dni-plaintext\">216</div></td></tr><tr><td>16</td><td><span>2014-05-25 00:00:00Z</span></td><td><div class=\"dni-plaintext\">530.5</div></td><td><div class=\"dni-plaintext\">677.9</div></td><td><div class=\"dni-plaintext\">530.5</div></td><td><div class=\"dni-plaintext\">656.4</div></td><td><div class=\"dni-plaintext\">628.2</div></td><td><div class=\"dni-plaintext\">110.24965458</div></td><td><div class=\"dni-plaintext\">388</div></td></tr><tr><td>17</td><td><span>2014-06-09 00:00:00Z</span></td><td><div class=\"dni-plaintext\">643.4</div></td><td><div class=\"dni-plaintext\">657.7</div></td><td><div class=\"dni-plaintext\">534.2</div></td><td><div class=\"dni-plaintext\">590.2</div></td><td><div class=\"dni-plaintext\">596.4</div></td><td><div class=\"dni-plaintext\">80.00664257</div></td><td><div class=\"dni-plaintext\">500</div></td></tr><tr><td>18</td><td><span>2014-06-24 00:00:00Z</span></td><td><div class=\"dni-plaintext\">590.2</div></td><td><div class=\"dni-plaintext\">658.8</div></td><td><div class=\"dni-plaintext\">557.4</div></td><td><div class=\"dni-plaintext\">626.8</div></td><td><div class=\"dni-plaintext\">615.4</div></td><td><div class=\"dni-plaintext\">95.92479742</div></td><td><div class=\"dni-plaintext\">293</div></td></tr><tr><td>19</td><td><span>2014-07-09 00:00:00Z</span></td><td><div class=\"dni-plaintext\">626.9</div></td><td><div class=\"dni-plaintext\">653.4</div></td><td><div class=\"dni-plaintext\">610.0</div></td><td><div class=\"dni-plaintext\">618.6</div></td><td><div class=\"dni-plaintext\">617.5</div></td><td><div class=\"dni-plaintext\">23.02584537</div></td><td><div class=\"dni-plaintext\">86</div></td></tr><tr><td colspan=\"9\">(180 more)</td></tr></tbody></table>"
      ]
     },
     "metadata": {},
     "output_type": "display_data"
    }
   ],
   "source": [
    "var result_kline = client.GetKlinesAsync(\"BTCUSD\", KlineInterval.FifteenDays, new DateTime(2013, 1, 1)).Result;\n",
    "\n",
    "display(result_kline.Data.Data.First());\n",
    "display(result_kline.Data.Data.Last());\n",
    "display(result_kline.Data.Data);"
   ]
  },
  {
   "cell_type": "code",
   "execution_count": null,
   "metadata": {
    "dotnet_interactive": {
     "language": "csharp"
    }
   },
   "outputs": [
    {
     "data": {
      "text/html": [
       "<table><thead><tr><th>Timestamp</th><th>Open</th><th>High</th><th>Low</th><th>Close</th><th>VolumeWeightedAveragePrice</th><th>Volume</th><th>TradeCount</th></tr></thead><tbody><tr><td><div class=\"dni-plaintext\">2019-12-13 00:00:00Z</div></td><td><div class=\"dni-plaintext\">7190.2</div></td><td><div class=\"dni-plaintext\">7300.0</div></td><td><div class=\"dni-plaintext\">7182.7</div></td><td><div class=\"dni-plaintext\">7251.9</div></td><td><div class=\"dni-plaintext\">7241.8</div></td><td><div class=\"dni-plaintext\">2900.50069874</div></td><td><div class=\"dni-plaintext\">7836</div></td></tr></tbody></table>"
      ]
     },
     "metadata": {},
     "output_type": "display_data"
    },
    {
     "data": {
      "text/html": [
       "<table><thead><tr><th>Timestamp</th><th>Open</th><th>High</th><th>Low</th><th>Close</th><th>VolumeWeightedAveragePrice</th><th>Volume</th><th>TradeCount</th></tr></thead><tbody><tr><td><div class=\"dni-plaintext\">2021-12-01 00:00:00Z</div></td><td><div class=\"dni-plaintext\">57007.4</div></td><td><div class=\"dni-plaintext\">59090.7</div></td><td><div class=\"dni-plaintext\">56681.9</div></td><td><div class=\"dni-plaintext\">57873.5</div></td><td><div class=\"dni-plaintext\">57590.4</div></td><td><div class=\"dni-plaintext\">2672.98405802</div></td><td><div class=\"dni-plaintext\">28741</div></td></tr></tbody></table>"
      ]
     },
     "metadata": {},
     "output_type": "display_data"
    },
    {
     "data": {
      "text/html": [
       "<table><thead><tr><th><i>index</i></th><th>Timestamp</th><th>Open</th><th>High</th><th>Low</th><th>Close</th><th>VolumeWeightedAveragePrice</th><th>Volume</th><th>TradeCount</th></tr></thead><tbody><tr><td>0</td><td><span>2019-12-13 00:00:00Z</span></td><td><div class=\"dni-plaintext\">7190.2</div></td><td><div class=\"dni-plaintext\">7300.0</div></td><td><div class=\"dni-plaintext\">7182.7</div></td><td><div class=\"dni-plaintext\">7251.9</div></td><td><div class=\"dni-plaintext\">7241.8</div></td><td><div class=\"dni-plaintext\">2900.50069874</div></td><td><div class=\"dni-plaintext\">7836</div></td></tr><tr><td>1</td><td><span>2019-12-14 00:00:00Z</span></td><td><div class=\"dni-plaintext\">7251.9</div></td><td><div class=\"dni-plaintext\">7272.1</div></td><td><div class=\"dni-plaintext\">7010.0</div></td><td><div class=\"dni-plaintext\">7067.5</div></td><td><div class=\"dni-plaintext\">7132.1</div></td><td><div class=\"dni-plaintext\">2770.37930834</div></td><td><div class=\"dni-plaintext\">8031</div></td></tr><tr><td>2</td><td><span>2019-12-15 00:00:00Z</span></td><td><div class=\"dni-plaintext\">7067.5</div></td><td><div class=\"dni-plaintext\">7203.0</div></td><td><div class=\"dni-plaintext\">7010.0</div></td><td><div class=\"dni-plaintext\">7113.7</div></td><td><div class=\"dni-plaintext\">7092.5</div></td><td><div class=\"dni-plaintext\">2347.93806361</div></td><td><div class=\"dni-plaintext\">6660</div></td></tr><tr><td>3</td><td><span>2019-12-16 00:00:00Z</span></td><td><div class=\"dni-plaintext\">7112.8</div></td><td><div class=\"dni-plaintext\">7140.0</div></td><td><div class=\"dni-plaintext\">6800.0</div></td><td><div class=\"dni-plaintext\">6876.7</div></td><td><div class=\"dni-plaintext\">6975.2</div></td><td><div class=\"dni-plaintext\">5102.80519991</div></td><td><div class=\"dni-plaintext\">12948</div></td></tr><tr><td>4</td><td><span>2019-12-17 00:00:00Z</span></td><td><div class=\"dni-plaintext\">6877.4</div></td><td><div class=\"dni-plaintext\">6939.0</div></td><td><div class=\"dni-plaintext\">6563.0</div></td><td><div class=\"dni-plaintext\">6611.1</div></td><td><div class=\"dni-plaintext\">6721.2</div></td><td><div class=\"dni-plaintext\">6131.25752861</div></td><td><div class=\"dni-plaintext\">16220</div></td></tr><tr><td>5</td><td><span>2019-12-18 00:00:00Z</span></td><td><div class=\"dni-plaintext\">6612.9</div></td><td><div class=\"dni-plaintext\">7488.2</div></td><td><div class=\"dni-plaintext\">6430.2</div></td><td><div class=\"dni-plaintext\">7287.9</div></td><td><div class=\"dni-plaintext\">6879.6</div></td><td><div class=\"dni-plaintext\">11212.51153387</div></td><td><div class=\"dni-plaintext\">27241</div></td></tr><tr><td>6</td><td><span>2019-12-19 00:00:00Z</span></td><td><div class=\"dni-plaintext\">7293.4</div></td><td><div class=\"dni-plaintext\">7379.8</div></td><td><div class=\"dni-plaintext\">7045.0</div></td><td><div class=\"dni-plaintext\">7149.8</div></td><td><div class=\"dni-plaintext\">7160.1</div></td><td><div class=\"dni-plaintext\">5337.33561706</div></td><td><div class=\"dni-plaintext\">12060</div></td></tr><tr><td>7</td><td><span>2019-12-20 00:00:00Z</span></td><td><div class=\"dni-plaintext\">7150.5</div></td><td><div class=\"dni-plaintext\">7218.0</div></td><td><div class=\"dni-plaintext\">7076.7</div></td><td><div class=\"dni-plaintext\">7191.5</div></td><td><div class=\"dni-plaintext\">7152.7</div></td><td><div class=\"dni-plaintext\">3440.04081588</div></td><td><div class=\"dni-plaintext\">7706</div></td></tr><tr><td>8</td><td><span>2019-12-21 00:00:00Z</span></td><td><div class=\"dni-plaintext\">7191.6</div></td><td><div class=\"dni-plaintext\">7191.6</div></td><td><div class=\"dni-plaintext\">7117.6</div></td><td><div class=\"dni-plaintext\">7143.5</div></td><td><div class=\"dni-plaintext\">7145.3</div></td><td><div class=\"dni-plaintext\">1353.22286945</div></td><td><div class=\"dni-plaintext\">4297</div></td></tr><tr><td>9</td><td><span>2019-12-22 00:00:00Z</span></td><td><div class=\"dni-plaintext\">7143.5</div></td><td><div class=\"dni-plaintext\">7526.9</div></td><td><div class=\"dni-plaintext\">7124.0</div></td><td><div class=\"dni-plaintext\">7510.0</div></td><td><div class=\"dni-plaintext\">7339.0</div></td><td><div class=\"dni-plaintext\">4534.82935907</div></td><td><div class=\"dni-plaintext\">10758</div></td></tr><tr><td>10</td><td><span>2019-12-23 00:00:00Z</span></td><td><div class=\"dni-plaintext\">7510.1</div></td><td><div class=\"dni-plaintext\">7690.5</div></td><td><div class=\"dni-plaintext\">7265.0</div></td><td><div class=\"dni-plaintext\">7324.0</div></td><td><div class=\"dni-plaintext\">7501.0</div></td><td><div class=\"dni-plaintext\">7541.52758700</div></td><td><div class=\"dni-plaintext\">16521</div></td></tr><tr><td>11</td><td><span>2019-12-24 00:00:00Z</span></td><td><div class=\"dni-plaintext\">7315.2</div></td><td><div class=\"dni-plaintext\">7420.4</div></td><td><div class=\"dni-plaintext\">7160.0</div></td><td><div class=\"dni-plaintext\">7253.3</div></td><td><div class=\"dni-plaintext\">7288.5</div></td><td><div class=\"dni-plaintext\">4866.13430740</div></td><td><div class=\"dni-plaintext\">11026</div></td></tr><tr><td>12</td><td><span>2019-12-25 00:00:00Z</span></td><td><div class=\"dni-plaintext\">7252.9</div></td><td><div class=\"dni-plaintext\">7271.8</div></td><td><div class=\"dni-plaintext\">7116.1</div></td><td><div class=\"dni-plaintext\">7192.1</div></td><td><div class=\"dni-plaintext\">7197.1</div></td><td><div class=\"dni-plaintext\">3360.65679731</div></td><td><div class=\"dni-plaintext\">7579</div></td></tr><tr><td>13</td><td><span>2019-12-26 00:00:00Z</span></td><td><div class=\"dni-plaintext\">7193.0</div></td><td><div class=\"dni-plaintext\">7428.9</div></td><td><div class=\"dni-plaintext\">7150.0</div></td><td><div class=\"dni-plaintext\">7195.5</div></td><td><div class=\"dni-plaintext\">7250.4</div></td><td><div class=\"dni-plaintext\">3667.03100747</div></td><td><div class=\"dni-plaintext\">10268</div></td></tr><tr><td>14</td><td><span>2019-12-27 00:00:00Z</span></td><td><div class=\"dni-plaintext\">7196.4</div></td><td><div class=\"dni-plaintext\">7255.0</div></td><td><div class=\"dni-plaintext\">6934.8</div></td><td><div class=\"dni-plaintext\">7246.4</div></td><td><div class=\"dni-plaintext\">7165.4</div></td><td><div class=\"dni-plaintext\">3927.39409090</div></td><td><div class=\"dni-plaintext\">10764</div></td></tr><tr><td>15</td><td><span>2019-12-28 00:00:00Z</span></td><td><div class=\"dni-plaintext\">7246.6</div></td><td><div class=\"dni-plaintext\">7350.0</div></td><td><div class=\"dni-plaintext\">7234.9</div></td><td><div class=\"dni-plaintext\">7300.1</div></td><td><div class=\"dni-plaintext\">7300.6</div></td><td><div class=\"dni-plaintext\">2522.15801625</div></td><td><div class=\"dni-plaintext\">6891</div></td></tr><tr><td>16</td><td><span>2019-12-29 00:00:00Z</span></td><td><div class=\"dni-plaintext\">7300.6</div></td><td><div class=\"dni-plaintext\">7531.4</div></td><td><div class=\"dni-plaintext\">7280.0</div></td><td><div class=\"dni-plaintext\">7391.0</div></td><td><div class=\"dni-plaintext\">7393.8</div></td><td><div class=\"dni-plaintext\">3018.85255099</div></td><td><div class=\"dni-plaintext\">9257</div></td></tr><tr><td>17</td><td><span>2019-12-30 00:00:00Z</span></td><td><div class=\"dni-plaintext\">7383.4</div></td><td><div class=\"dni-plaintext\">7383.4</div></td><td><div class=\"dni-plaintext\">7200.0</div></td><td><div class=\"dni-plaintext\">7209.7</div></td><td><div class=\"dni-plaintext\">7273.6</div></td><td><div class=\"dni-plaintext\">3737.33575952</div></td><td><div class=\"dni-plaintext\">8486</div></td></tr><tr><td>18</td><td><span>2019-12-31 00:00:00Z</span></td><td><div class=\"dni-plaintext\">7216.4</div></td><td><div class=\"dni-plaintext\">7301.1</div></td><td><div class=\"dni-plaintext\">7110.0</div></td><td><div class=\"dni-plaintext\">7168.3</div></td><td><div class=\"dni-plaintext\">7192.9</div></td><td><div class=\"dni-plaintext\">2652.13508878</div></td><td><div class=\"dni-plaintext\">7734</div></td></tr><tr><td>19</td><td><span>2020-01-01 00:00:00Z</span></td><td><div class=\"dni-plaintext\">7168.3</div></td><td><div class=\"dni-plaintext\">7235.0</div></td><td><div class=\"dni-plaintext\">7150.0</div></td><td><div class=\"dni-plaintext\">7174.4</div></td><td><div class=\"dni-plaintext\">7196.5</div></td><td><div class=\"dni-plaintext\">1827.63489373</div></td><td><div class=\"dni-plaintext\">5611</div></td></tr><tr><td colspan=\"9\">(700 more)</td></tr></tbody></table>"
      ]
     },
     "metadata": {},
     "output_type": "display_data"
    }
   ],
   "source": [
    "var result_kline = client.GetKlinesAsync(\"BTCUSD\", KlineInterval.OneDay).Result;\n",
    "\n",
    "display(result_kline.Data.Data.First());\n",
    "display(result_kline.Data.Data.Last());\n",
    "display(result_kline.Data.Data);"
   ]
  },
  {
   "cell_type": "code",
   "execution_count": null,
   "metadata": {
    "dotnet_interactive": {
     "language": "csharp"
    }
   },
   "outputs": [
    {
     "data": {
      "text/html": [
       "<table><thead><tr><th>Timestamp</th><th>Open</th><th>High</th><th>Low</th><th>Close</th><th>VolumeWeightedAveragePrice</th><th>Volume</th><th>TradeCount</th></tr></thead><tbody><tr><td><div class=\"dni-plaintext\">2021-11-01 19:00:00Z</div></td><td><div class=\"dni-plaintext\">60584.2</div></td><td><div class=\"dni-plaintext\">61499.9</div></td><td><div class=\"dni-plaintext\">60325.2</div></td><td><div class=\"dni-plaintext\">61499.9</div></td><td><div class=\"dni-plaintext\">60976.4</div></td><td><div class=\"dni-plaintext\">176.17597065</div></td><td><div class=\"dni-plaintext\">2068</div></td></tr></tbody></table>"
      ]
     },
     "metadata": {},
     "output_type": "display_data"
    },
    {
     "data": {
      "text/html": [
       "<table><thead><tr><th>Timestamp</th><th>Open</th><th>High</th><th>Low</th><th>Close</th><th>VolumeWeightedAveragePrice</th><th>Volume</th><th>TradeCount</th></tr></thead><tbody><tr><td><div class=\"dni-plaintext\">2021-12-01 18:00:00Z</div></td><td><div class=\"dni-plaintext\">58051.7</div></td><td><div class=\"dni-plaintext\">58111.0</div></td><td><div class=\"dni-plaintext\">57629.2</div></td><td><div class=\"dni-plaintext\">57941.1</div></td><td><div class=\"dni-plaintext\">57857.4</div></td><td><div class=\"dni-plaintext\">60.26288592</div></td><td><div class=\"dni-plaintext\">1125</div></td></tr></tbody></table>"
      ]
     },
     "metadata": {},
     "output_type": "display_data"
    },
    {
     "data": {
      "text/html": [
       "<table><thead><tr><th><i>index</i></th><th>Timestamp</th><th>Open</th><th>High</th><th>Low</th><th>Close</th><th>VolumeWeightedAveragePrice</th><th>Volume</th><th>TradeCount</th></tr></thead><tbody><tr><td>0</td><td><span>2021-11-01 19:00:00Z</span></td><td><div class=\"dni-plaintext\">60584.2</div></td><td><div class=\"dni-plaintext\">61499.9</div></td><td><div class=\"dni-plaintext\">60325.2</div></td><td><div class=\"dni-plaintext\">61499.9</div></td><td><div class=\"dni-plaintext\">60976.4</div></td><td><div class=\"dni-plaintext\">176.17597065</div></td><td><div class=\"dni-plaintext\">2068</div></td></tr><tr><td>1</td><td><span>2021-11-01 20:00:00Z</span></td><td><div class=\"dni-plaintext\">61484.0</div></td><td><div class=\"dni-plaintext\">61484.0</div></td><td><div class=\"dni-plaintext\">60606.3</div></td><td><div class=\"dni-plaintext\">60729.1</div></td><td><div class=\"dni-plaintext\">60992.3</div></td><td><div class=\"dni-plaintext\">97.07123762</div></td><td><div class=\"dni-plaintext\">1449</div></td></tr><tr><td>2</td><td><span>2021-11-01 21:00:00Z</span></td><td><div class=\"dni-plaintext\">60724.2</div></td><td><div class=\"dni-plaintext\">60920.5</div></td><td><div class=\"dni-plaintext\">60500.0</div></td><td><div class=\"dni-plaintext\">60802.8</div></td><td><div class=\"dni-plaintext\">60642.2</div></td><td><div class=\"dni-plaintext\">138.01585384</div></td><td><div class=\"dni-plaintext\">1130</div></td></tr><tr><td>3</td><td><span>2021-11-01 22:00:00Z</span></td><td><div class=\"dni-plaintext\">60802.8</div></td><td><div class=\"dni-plaintext\">61194.7</div></td><td><div class=\"dni-plaintext\">60764.6</div></td><td><div class=\"dni-plaintext\">61145.6</div></td><td><div class=\"dni-plaintext\">60983.4</div></td><td><div class=\"dni-plaintext\">96.08189584</div></td><td><div class=\"dni-plaintext\">1065</div></td></tr><tr><td>4</td><td><span>2021-11-01 23:00:00Z</span></td><td><div class=\"dni-plaintext\">61144.3</div></td><td><div class=\"dni-plaintext\">61180.0</div></td><td><div class=\"dni-plaintext\">60932.2</div></td><td><div class=\"dni-plaintext\">60954.5</div></td><td><div class=\"dni-plaintext\">61081.9</div></td><td><div class=\"dni-plaintext\">18.93624627</div></td><td><div class=\"dni-plaintext\">831</div></td></tr><tr><td>5</td><td><span>2021-11-02 00:00:00Z</span></td><td><div class=\"dni-plaintext\">60954.5</div></td><td><div class=\"dni-plaintext\">61400.0</div></td><td><div class=\"dni-plaintext\">60665.9</div></td><td><div class=\"dni-plaintext\">60962.2</div></td><td><div class=\"dni-plaintext\">60988.5</div></td><td><div class=\"dni-plaintext\">90.96212772</div></td><td><div class=\"dni-plaintext\">1750</div></td></tr><tr><td>6</td><td><span>2021-11-02 01:00:00Z</span></td><td><div class=\"dni-plaintext\">60973.8</div></td><td><div class=\"dni-plaintext\">61634.7</div></td><td><div class=\"dni-plaintext\">60812.2</div></td><td><div class=\"dni-plaintext\">61379.2</div></td><td><div class=\"dni-plaintext\">61340.1</div></td><td><div class=\"dni-plaintext\">46.76857896</div></td><td><div class=\"dni-plaintext\">1367</div></td></tr><tr><td>7</td><td><span>2021-11-02 02:00:00Z</span></td><td><div class=\"dni-plaintext\">61373.1</div></td><td><div class=\"dni-plaintext\">61448.8</div></td><td><div class=\"dni-plaintext\">60900.0</div></td><td><div class=\"dni-plaintext\">60948.7</div></td><td><div class=\"dni-plaintext\">61210.5</div></td><td><div class=\"dni-plaintext\">50.81160887</div></td><td><div class=\"dni-plaintext\">988</div></td></tr><tr><td>8</td><td><span>2021-11-02 03:00:00Z</span></td><td><div class=\"dni-plaintext\">60948.7</div></td><td><div class=\"dni-plaintext\">61172.8</div></td><td><div class=\"dni-plaintext\">60843.1</div></td><td><div class=\"dni-plaintext\">61119.2</div></td><td><div class=\"dni-plaintext\">60966.5</div></td><td><div class=\"dni-plaintext\">21.49939406</div></td><td><div class=\"dni-plaintext\">666</div></td></tr><tr><td>9</td><td><span>2021-11-02 04:00:00Z</span></td><td><div class=\"dni-plaintext\">61117.7</div></td><td><div class=\"dni-plaintext\">61575.4</div></td><td><div class=\"dni-plaintext\">61108.2</div></td><td><div class=\"dni-plaintext\">61470.9</div></td><td><div class=\"dni-plaintext\">61417.6</div></td><td><div class=\"dni-plaintext\">38.12500550</div></td><td><div class=\"dni-plaintext\">871</div></td></tr><tr><td>10</td><td><span>2021-11-02 05:00:00Z</span></td><td><div class=\"dni-plaintext\">61470.9</div></td><td><div class=\"dni-plaintext\">61798.0</div></td><td><div class=\"dni-plaintext\">61357.1</div></td><td><div class=\"dni-plaintext\">61798.0</div></td><td><div class=\"dni-plaintext\">61606.0</div></td><td><div class=\"dni-plaintext\">55.11756651</div></td><td><div class=\"dni-plaintext\">965</div></td></tr><tr><td>11</td><td><span>2021-11-02 06:00:00Z</span></td><td><div class=\"dni-plaintext\">61797.9</div></td><td><div class=\"dni-plaintext\">61865.2</div></td><td><div class=\"dni-plaintext\">61632.4</div></td><td><div class=\"dni-plaintext\">61800.0</div></td><td><div class=\"dni-plaintext\">61718.9</div></td><td><div class=\"dni-plaintext\">29.92794715</div></td><td><div class=\"dni-plaintext\">765</div></td></tr><tr><td>12</td><td><span>2021-11-02 07:00:00Z</span></td><td><div class=\"dni-plaintext\">61800.0</div></td><td><div class=\"dni-plaintext\">61848.0</div></td><td><div class=\"dni-plaintext\">61576.3</div></td><td><div class=\"dni-plaintext\">61576.3</div></td><td><div class=\"dni-plaintext\">61747.4</div></td><td><div class=\"dni-plaintext\">26.66548973</div></td><td><div class=\"dni-plaintext\">577</div></td></tr><tr><td>13</td><td><span>2021-11-02 08:00:00Z</span></td><td><div class=\"dni-plaintext\">61576.3</div></td><td><div class=\"dni-plaintext\">61807.1</div></td><td><div class=\"dni-plaintext\">61407.3</div></td><td><div class=\"dni-plaintext\">61626.2</div></td><td><div class=\"dni-plaintext\">61577.0</div></td><td><div class=\"dni-plaintext\">27.59338805</div></td><td><div class=\"dni-plaintext\">655</div></td></tr><tr><td>14</td><td><span>2021-11-02 09:00:00Z</span></td><td><div class=\"dni-plaintext\">61595.9</div></td><td><div class=\"dni-plaintext\">63189.0</div></td><td><div class=\"dni-plaintext\">61549.2</div></td><td><div class=\"dni-plaintext\">63120.0</div></td><td><div class=\"dni-plaintext\">62743.4</div></td><td><div class=\"dni-plaintext\">288.92496356</div></td><td><div class=\"dni-plaintext\">2881</div></td></tr><tr><td>15</td><td><span>2021-11-02 10:00:00Z</span></td><td><div class=\"dni-plaintext\">63120.0</div></td><td><div class=\"dni-plaintext\">63627.7</div></td><td><div class=\"dni-plaintext\">63069.9</div></td><td><div class=\"dni-plaintext\">63249.9</div></td><td><div class=\"dni-plaintext\">63320.4</div></td><td><div class=\"dni-plaintext\">344.52365124</div></td><td><div class=\"dni-plaintext\">2850</div></td></tr><tr><td>16</td><td><span>2021-11-02 11:00:00Z</span></td><td><div class=\"dni-plaintext\">63250.0</div></td><td><div class=\"dni-plaintext\">63395.4</div></td><td><div class=\"dni-plaintext\">62971.4</div></td><td><div class=\"dni-plaintext\">62982.8</div></td><td><div class=\"dni-plaintext\">63206.3</div></td><td><div class=\"dni-plaintext\">112.32610732</div></td><td><div class=\"dni-plaintext\">1199</div></td></tr><tr><td>17</td><td><span>2021-11-02 12:00:00Z</span></td><td><div class=\"dni-plaintext\">62982.2</div></td><td><div class=\"dni-plaintext\">63299.9</div></td><td><div class=\"dni-plaintext\">62982.2</div></td><td><div class=\"dni-plaintext\">63047.0</div></td><td><div class=\"dni-plaintext\">63160.7</div></td><td><div class=\"dni-plaintext\">128.81291318</div></td><td><div class=\"dni-plaintext\">1233</div></td></tr><tr><td>18</td><td><span>2021-11-02 13:00:00Z</span></td><td><div class=\"dni-plaintext\">63045.7</div></td><td><div class=\"dni-plaintext\">63480.0</div></td><td><div class=\"dni-plaintext\">63045.5</div></td><td><div class=\"dni-plaintext\">63447.0</div></td><td><div class=\"dni-plaintext\">63239.7</div></td><td><div class=\"dni-plaintext\">115.38433521</div></td><td><div class=\"dni-plaintext\">1784</div></td></tr><tr><td>19</td><td><span>2021-11-02 14:00:00Z</span></td><td><div class=\"dni-plaintext\">63455.3</div></td><td><div class=\"dni-plaintext\">63997.5</div></td><td><div class=\"dni-plaintext\">63060.0</div></td><td><div class=\"dni-plaintext\">63404.3</div></td><td><div class=\"dni-plaintext\">63533.9</div></td><td><div class=\"dni-plaintext\">223.62538733</div></td><td><div class=\"dni-plaintext\">2671</div></td></tr><tr><td colspan=\"9\">(700 more)</td></tr></tbody></table>"
      ]
     },
     "metadata": {},
     "output_type": "display_data"
    }
   ],
   "source": [
    "var result_kline = client.GetKlinesAsync(\"BTCUSD\", KlineInterval.OneHour).Result;\n",
    "\n",
    "display(result_kline.Data.Data.First());\n",
    "display(result_kline.Data.Data.Last());\n",
    "display(result_kline.Data.Data);"
   ]
  },
  {
   "cell_type": "code",
   "execution_count": null,
   "metadata": {
    "dotnet_interactive": {
     "language": "csharp"
    }
   },
   "outputs": [
    {
     "data": {
      "text/html": [
       "<table><thead><tr><th>Timestamp</th><th>Open</th><th>High</th><th>Low</th><th>Close</th><th>VolumeWeightedAveragePrice</th><th>Volume</th><th>TradeCount</th></tr></thead><tbody><tr><td><div class=\"dni-plaintext\">2021-12-01 06:30:00Z</div></td><td><div class=\"dni-plaintext\">56951.3</div></td><td><div class=\"dni-plaintext\">56951.3</div></td><td><div class=\"dni-plaintext\">56951.3</div></td><td><div class=\"dni-plaintext\">56951.3</div></td><td><div class=\"dni-plaintext\">56951.3</div></td><td><div class=\"dni-plaintext\">0.12105263</div></td><td><div class=\"dni-plaintext\">2</div></td></tr></tbody></table>"
      ]
     },
     "metadata": {},
     "output_type": "display_data"
    },
    {
     "data": {
      "text/html": [
       "<table><thead><tr><th>Timestamp</th><th>Open</th><th>High</th><th>Low</th><th>Close</th><th>VolumeWeightedAveragePrice</th><th>Volume</th><th>TradeCount</th></tr></thead><tbody><tr><td><div class=\"dni-plaintext\">2021-12-01 18:29:00Z</div></td><td><div class=\"dni-plaintext\">57941.0</div></td><td><div class=\"dni-plaintext\">57941.1</div></td><td><div class=\"dni-plaintext\">57900.8</div></td><td><div class=\"dni-plaintext\">57900.8</div></td><td><div class=\"dni-plaintext\">57937.2</div></td><td><div class=\"dni-plaintext\">0.30379053</div></td><td><div class=\"dni-plaintext\">20</div></td></tr></tbody></table>"
      ]
     },
     "metadata": {},
     "output_type": "display_data"
    },
    {
     "data": {
      "text/html": [
       "<table><thead><tr><th><i>index</i></th><th>Timestamp</th><th>Open</th><th>High</th><th>Low</th><th>Close</th><th>VolumeWeightedAveragePrice</th><th>Volume</th><th>TradeCount</th></tr></thead><tbody><tr><td>0</td><td><span>2021-12-01 06:30:00Z</span></td><td><div class=\"dni-plaintext\">56951.3</div></td><td><div class=\"dni-plaintext\">56951.3</div></td><td><div class=\"dni-plaintext\">56951.3</div></td><td><div class=\"dni-plaintext\">56951.3</div></td><td><div class=\"dni-plaintext\">56951.3</div></td><td><div class=\"dni-plaintext\">0.12105263</div></td><td><div class=\"dni-plaintext\">2</div></td></tr><tr><td>1</td><td><span>2021-12-01 06:31:00Z</span></td><td><div class=\"dni-plaintext\">56951.2</div></td><td><div class=\"dni-plaintext\">56951.3</div></td><td><div class=\"dni-plaintext\">56951.2</div></td><td><div class=\"dni-plaintext\">56951.3</div></td><td><div class=\"dni-plaintext\">56951.2</div></td><td><div class=\"dni-plaintext\">0.02576964</div></td><td><div class=\"dni-plaintext\">2</div></td></tr><tr><td>2</td><td><span>2021-12-01 06:32:00Z</span></td><td><div class=\"dni-plaintext\">56951.2</div></td><td><div class=\"dni-plaintext\">56951.2</div></td><td><div class=\"dni-plaintext\">56926.3</div></td><td><div class=\"dni-plaintext\">56926.3</div></td><td><div class=\"dni-plaintext\">56940.3</div></td><td><div class=\"dni-plaintext\">2.00023673</div></td><td><div class=\"dni-plaintext\">11</div></td></tr><tr><td>3</td><td><span>2021-12-01 06:33:00Z</span></td><td><div class=\"dni-plaintext\">56926.2</div></td><td><div class=\"dni-plaintext\">56926.3</div></td><td><div class=\"dni-plaintext\">56926.2</div></td><td><div class=\"dni-plaintext\">56926.3</div></td><td><div class=\"dni-plaintext\">56926.2</div></td><td><div class=\"dni-plaintext\">0.03962477</div></td><td><div class=\"dni-plaintext\">9</div></td></tr><tr><td>4</td><td><span>2021-12-01 06:34:00Z</span></td><td><div class=\"dni-plaintext\">56926.3</div></td><td><div class=\"dni-plaintext\">56926.3</div></td><td><div class=\"dni-plaintext\">56926.0</div></td><td><div class=\"dni-plaintext\">56926.0</div></td><td><div class=\"dni-plaintext\">56926.0</div></td><td><div class=\"dni-plaintext\">0.08781963</div></td><td><div class=\"dni-plaintext\">6</div></td></tr><tr><td>5</td><td><span>2021-12-01 06:35:00Z</span></td><td><div class=\"dni-plaintext\">56926.0</div></td><td><div class=\"dni-plaintext\">56985.5</div></td><td><div class=\"dni-plaintext\">56926.0</div></td><td><div class=\"dni-plaintext\">56976.5</div></td><td><div class=\"dni-plaintext\">56952.0</div></td><td><div class=\"dni-plaintext\">0.24893951</div></td><td><div class=\"dni-plaintext\">25</div></td></tr><tr><td>6</td><td><span>2021-12-01 06:36:00Z</span></td><td><div class=\"dni-plaintext\">56976.5</div></td><td><div class=\"dni-plaintext\">56989.7</div></td><td><div class=\"dni-plaintext\">56970.8</div></td><td><div class=\"dni-plaintext\">56970.8</div></td><td><div class=\"dni-plaintext\">56980.1</div></td><td><div class=\"dni-plaintext\">2.02051577</div></td><td><div class=\"dni-plaintext\">15</div></td></tr><tr><td>7</td><td><span>2021-12-01 06:37:00Z</span></td><td><div class=\"dni-plaintext\">56974.6</div></td><td><div class=\"dni-plaintext\">56998.4</div></td><td><div class=\"dni-plaintext\">56974.6</div></td><td><div class=\"dni-plaintext\">56998.4</div></td><td><div class=\"dni-plaintext\">56980.6</div></td><td><div class=\"dni-plaintext\">0.38281175</div></td><td><div class=\"dni-plaintext\">6</div></td></tr><tr><td>8</td><td><span>2021-12-01 06:38:00Z</span></td><td><div class=\"dni-plaintext\">56998.4</div></td><td><div class=\"dni-plaintext\">57020.9</div></td><td><div class=\"dni-plaintext\">56998.4</div></td><td><div class=\"dni-plaintext\">57020.9</div></td><td><div class=\"dni-plaintext\">57018.2</div></td><td><div class=\"dni-plaintext\">0.01886536</div></td><td><div class=\"dni-plaintext\">12</div></td></tr><tr><td>9</td><td><span>2021-12-01 06:39:00Z</span></td><td><div class=\"dni-plaintext\">57021.0</div></td><td><div class=\"dni-plaintext\">57021.0</div></td><td><div class=\"dni-plaintext\">57020.9</div></td><td><div class=\"dni-plaintext\">57020.9</div></td><td><div class=\"dni-plaintext\">57020.9</div></td><td><div class=\"dni-plaintext\">0.00241140</div></td><td><div class=\"dni-plaintext\">4</div></td></tr><tr><td>10</td><td><span>2021-12-01 06:40:00Z</span></td><td><div class=\"dni-plaintext\">57021.0</div></td><td><div class=\"dni-plaintext\">57021.0</div></td><td><div class=\"dni-plaintext\">56985.6</div></td><td><div class=\"dni-plaintext\">56985.6</div></td><td><div class=\"dni-plaintext\">57014.1</div></td><td><div class=\"dni-plaintext\">0.31153886</div></td><td><div class=\"dni-plaintext\">7</div></td></tr><tr><td>11</td><td><span>2021-12-01 06:41:00Z</span></td><td><div class=\"dni-plaintext\">56985.7</div></td><td><div class=\"dni-plaintext\">56985.7</div></td><td><div class=\"dni-plaintext\">56985.6</div></td><td><div class=\"dni-plaintext\">56985.7</div></td><td><div class=\"dni-plaintext\">56985.6</div></td><td><div class=\"dni-plaintext\">0.01533154</div></td><td><div class=\"dni-plaintext\">4</div></td></tr><tr><td>12</td><td><span>2021-12-01 06:42:00Z</span></td><td><div class=\"dni-plaintext\">56985.7</div></td><td><div class=\"dni-plaintext\">56985.7</div></td><td><div class=\"dni-plaintext\">56985.6</div></td><td><div class=\"dni-plaintext\">56985.6</div></td><td><div class=\"dni-plaintext\">56985.6</div></td><td><div class=\"dni-plaintext\">0.12810076</div></td><td><div class=\"dni-plaintext\">6</div></td></tr><tr><td>13</td><td><span>2021-12-01 06:43:00Z</span></td><td><div class=\"dni-plaintext\">56985.7</div></td><td><div class=\"dni-plaintext\">56985.7</div></td><td><div class=\"dni-plaintext\">56985.6</div></td><td><div class=\"dni-plaintext\">56985.6</div></td><td><div class=\"dni-plaintext\">56985.6</div></td><td><div class=\"dni-plaintext\">0.02415580</div></td><td><div class=\"dni-plaintext\">7</div></td></tr><tr><td>14</td><td><span>2021-12-01 06:44:00Z</span></td><td><div class=\"dni-plaintext\">56985.7</div></td><td><div class=\"dni-plaintext\">56985.7</div></td><td><div class=\"dni-plaintext\">56959.3</div></td><td><div class=\"dni-plaintext\">56959.3</div></td><td><div class=\"dni-plaintext\">56980.4</div></td><td><div class=\"dni-plaintext\">0.02947724</div></td><td><div class=\"dni-plaintext\">7</div></td></tr><tr><td>15</td><td><span>2021-12-01 06:45:00Z</span></td><td><div class=\"dni-plaintext\">56959.2</div></td><td><div class=\"dni-plaintext\">56980.7</div></td><td><div class=\"dni-plaintext\">56959.1</div></td><td><div class=\"dni-plaintext\">56980.7</div></td><td><div class=\"dni-plaintext\">56961.2</div></td><td><div class=\"dni-plaintext\">0.09301728</div></td><td><div class=\"dni-plaintext\">8</div></td></tr><tr><td>16</td><td><span>2021-12-01 06:46:00Z</span></td><td><div class=\"dni-plaintext\">56980.7</div></td><td><div class=\"dni-plaintext\">57033.1</div></td><td><div class=\"dni-plaintext\">56980.7</div></td><td><div class=\"dni-plaintext\">57033.1</div></td><td><div class=\"dni-plaintext\">57018.7</div></td><td><div class=\"dni-plaintext\">0.51049852</div></td><td><div class=\"dni-plaintext\">17</div></td></tr><tr><td>17</td><td><span>2021-12-01 06:47:00Z</span></td><td><div class=\"dni-plaintext\">57033.2</div></td><td><div class=\"dni-plaintext\">57033.2</div></td><td><div class=\"dni-plaintext\">57033.1</div></td><td><div class=\"dni-plaintext\">57033.2</div></td><td><div class=\"dni-plaintext\">57033.1</div></td><td><div class=\"dni-plaintext\">0.03327851</div></td><td><div class=\"dni-plaintext\">9</div></td></tr><tr><td>18</td><td><span>2021-12-01 06:48:00Z</span></td><td><div class=\"dni-plaintext\">57033.2</div></td><td><div class=\"dni-plaintext\">57033.2</div></td><td><div class=\"dni-plaintext\">57008.4</div></td><td><div class=\"dni-plaintext\">57033.2</div></td><td><div class=\"dni-plaintext\">57018.1</div></td><td><div class=\"dni-plaintext\">10.07133671</div></td><td><div class=\"dni-plaintext\">37</div></td></tr><tr><td>19</td><td><span>2021-12-01 06:49:00Z</span></td><td><div class=\"dni-plaintext\">57033.2</div></td><td><div class=\"dni-plaintext\">57033.2</div></td><td><div class=\"dni-plaintext\">57033.1</div></td><td><div class=\"dni-plaintext\">57033.1</div></td><td><div class=\"dni-plaintext\">57033.1</div></td><td><div class=\"dni-plaintext\">0.01138652</div></td><td><div class=\"dni-plaintext\">7</div></td></tr><tr><td colspan=\"9\">(700 more)</td></tr></tbody></table>"
      ]
     },
     "metadata": {},
     "output_type": "display_data"
    }
   ],
   "source": [
    "var result_kline = client.GetKlinesAsync(\"BTCUSD\", KlineInterval.OneMinute).Result;\n",
    "\n",
    "display(result_kline.Data.Data.First());\n",
    "display(result_kline.Data.Data.Last());\n",
    "display(result_kline.Data.Data);"
   ]
  },
  {
   "cell_type": "code",
   "execution_count": null,
   "metadata": {
    "dotnet_interactive": {
     "language": "csharp"
    }
   },
   "outputs": [],
   "source": []
  }
 ],
 "metadata": {
  "kernelspec": {
   "display_name": ".NET (C#)",
   "language": "C#",
   "name": ".net-csharp"
  },
  "language_info": {
   "name": "C#"
  }
 },
 "nbformat": 4,
 "nbformat_minor": 2
}
