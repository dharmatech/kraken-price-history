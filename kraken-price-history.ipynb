{
 "cells": [
  {
   "cell_type": "code",
   "execution_count": null,
   "metadata": {
    "dotnet_interactive": {
     "language": "csharp"
    }
   },
   "outputs": [
    {
     "data": {
      "text/html": [
       "<div><div></div><div></div><div><strong>Installed Packages</strong><ul><li><span>KrakenExchange.Net, 2.2.3</span></li></ul></div></div>"
      ]
     },
     "metadata": {},
     "output_type": "display_data"
    }
   ],
   "source": [
    "#r \"nuget: KrakenExchange.Net\""
   ]
  },
  {
   "cell_type": "code",
   "execution_count": null,
   "metadata": {
    "dotnet_interactive": {
     "language": "csharp"
    }
   },
   "outputs": [],
   "source": [
    "using Kraken.Net;\n",
    "using Kraken.Net.Objects;"
   ]
  },
  {
   "cell_type": "code",
   "execution_count": null,
   "metadata": {
    "dotnet_interactive": {
     "language": "csharp"
    }
   },
   "outputs": [],
   "source": [
    "var client = new KrakenClient(new KrakenClientOptions() { });\n",
    "\n"
   ]
  },
  {
   "cell_type": "code",
   "execution_count": null,
   "metadata": {
    "dotnet_interactive": {
     "language": "csharp"
    }
   },
   "outputs": [],
   "source": [
    "var result = client.GetTickersAsync(\"BTCUSD\").Result;"
   ]
  },
  {
   "cell_type": "code",
   "execution_count": null,
   "metadata": {
    "dotnet_interactive": {
     "language": "csharp"
    }
   },
   "outputs": [
    {
     "data": {
      "text/html": [
       "<table><thead><tr><th><i>index</i></th><th>Timestamp</th><th>Open</th><th>High</th><th>Low</th><th>Close</th><th>VolumeWeightedAveragePrice</th><th>Volume</th><th>TradeCount</th></tr></thead><tbody><tr><td>0</td><td><span>2019-12-13 00:00:00Z</span></td><td><div class=\"dni-plaintext\">7190.2</div></td><td><div class=\"dni-plaintext\">7300.0</div></td><td><div class=\"dni-plaintext\">7182.7</div></td><td><div class=\"dni-plaintext\">7251.9</div></td><td><div class=\"dni-plaintext\">7241.8</div></td><td><div class=\"dni-plaintext\">2900.50069874</div></td><td><div class=\"dni-plaintext\">7836</div></td></tr><tr><td>1</td><td><span>2019-12-14 00:00:00Z</span></td><td><div class=\"dni-plaintext\">7251.9</div></td><td><div class=\"dni-plaintext\">7272.1</div></td><td><div class=\"dni-plaintext\">7010.0</div></td><td><div class=\"dni-plaintext\">7067.5</div></td><td><div class=\"dni-plaintext\">7132.1</div></td><td><div class=\"dni-plaintext\">2770.37930834</div></td><td><div class=\"dni-plaintext\">8031</div></td></tr><tr><td>2</td><td><span>2019-12-15 00:00:00Z</span></td><td><div class=\"dni-plaintext\">7067.5</div></td><td><div class=\"dni-plaintext\">7203.0</div></td><td><div class=\"dni-plaintext\">7010.0</div></td><td><div class=\"dni-plaintext\">7113.7</div></td><td><div class=\"dni-plaintext\">7092.5</div></td><td><div class=\"dni-plaintext\">2347.93806361</div></td><td><div class=\"dni-plaintext\">6660</div></td></tr><tr><td>3</td><td><span>2019-12-16 00:00:00Z</span></td><td><div class=\"dni-plaintext\">7112.8</div></td><td><div class=\"dni-plaintext\">7140.0</div></td><td><div class=\"dni-plaintext\">6800.0</div></td><td><div class=\"dni-plaintext\">6876.7</div></td><td><div class=\"dni-plaintext\">6975.2</div></td><td><div class=\"dni-plaintext\">5102.80519991</div></td><td><div class=\"dni-plaintext\">12948</div></td></tr><tr><td>4</td><td><span>2019-12-17 00:00:00Z</span></td><td><div class=\"dni-plaintext\">6877.4</div></td><td><div class=\"dni-plaintext\">6939.0</div></td><td><div class=\"dni-plaintext\">6563.0</div></td><td><div class=\"dni-plaintext\">6611.1</div></td><td><div class=\"dni-plaintext\">6721.2</div></td><td><div class=\"dni-plaintext\">6131.25752861</div></td><td><div class=\"dni-plaintext\">16220</div></td></tr><tr><td>5</td><td><span>2019-12-18 00:00:00Z</span></td><td><div class=\"dni-plaintext\">6612.9</div></td><td><div class=\"dni-plaintext\">7488.2</div></td><td><div class=\"dni-plaintext\">6430.2</div></td><td><div class=\"dni-plaintext\">7287.9</div></td><td><div class=\"dni-plaintext\">6879.6</div></td><td><div class=\"dni-plaintext\">11212.51153387</div></td><td><div class=\"dni-plaintext\">27241</div></td></tr><tr><td>6</td><td><span>2019-12-19 00:00:00Z</span></td><td><div class=\"dni-plaintext\">7293.4</div></td><td><div class=\"dni-plaintext\">7379.8</div></td><td><div class=\"dni-plaintext\">7045.0</div></td><td><div class=\"dni-plaintext\">7149.8</div></td><td><div class=\"dni-plaintext\">7160.1</div></td><td><div class=\"dni-plaintext\">5337.33561706</div></td><td><div class=\"dni-plaintext\">12060</div></td></tr><tr><td>7</td><td><span>2019-12-20 00:00:00Z</span></td><td><div class=\"dni-plaintext\">7150.5</div></td><td><div class=\"dni-plaintext\">7218.0</div></td><td><div class=\"dni-plaintext\">7076.7</div></td><td><div class=\"dni-plaintext\">7191.5</div></td><td><div class=\"dni-plaintext\">7152.7</div></td><td><div class=\"dni-plaintext\">3440.04081588</div></td><td><div class=\"dni-plaintext\">7706</div></td></tr><tr><td>8</td><td><span>2019-12-21 00:00:00Z</span></td><td><div class=\"dni-plaintext\">7191.6</div></td><td><div class=\"dni-plaintext\">7191.6</div></td><td><div class=\"dni-plaintext\">7117.6</div></td><td><div class=\"dni-plaintext\">7143.5</div></td><td><div class=\"dni-plaintext\">7145.3</div></td><td><div class=\"dni-plaintext\">1353.22286945</div></td><td><div class=\"dni-plaintext\">4297</div></td></tr><tr><td>9</td><td><span>2019-12-22 00:00:00Z</span></td><td><div class=\"dni-plaintext\">7143.5</div></td><td><div class=\"dni-plaintext\">7526.9</div></td><td><div class=\"dni-plaintext\">7124.0</div></td><td><div class=\"dni-plaintext\">7510.0</div></td><td><div class=\"dni-plaintext\">7339.0</div></td><td><div class=\"dni-plaintext\">4534.82935907</div></td><td><div class=\"dni-plaintext\">10758</div></td></tr><tr><td>10</td><td><span>2019-12-23 00:00:00Z</span></td><td><div class=\"dni-plaintext\">7510.1</div></td><td><div class=\"dni-plaintext\">7690.5</div></td><td><div class=\"dni-plaintext\">7265.0</div></td><td><div class=\"dni-plaintext\">7324.0</div></td><td><div class=\"dni-plaintext\">7501.0</div></td><td><div class=\"dni-plaintext\">7541.52758700</div></td><td><div class=\"dni-plaintext\">16521</div></td></tr><tr><td>11</td><td><span>2019-12-24 00:00:00Z</span></td><td><div class=\"dni-plaintext\">7315.2</div></td><td><div class=\"dni-plaintext\">7420.4</div></td><td><div class=\"dni-plaintext\">7160.0</div></td><td><div class=\"dni-plaintext\">7253.3</div></td><td><div class=\"dni-plaintext\">7288.5</div></td><td><div class=\"dni-plaintext\">4866.13430740</div></td><td><div class=\"dni-plaintext\">11026</div></td></tr><tr><td>12</td><td><span>2019-12-25 00:00:00Z</span></td><td><div class=\"dni-plaintext\">7252.9</div></td><td><div class=\"dni-plaintext\">7271.8</div></td><td><div class=\"dni-plaintext\">7116.1</div></td><td><div class=\"dni-plaintext\">7192.1</div></td><td><div class=\"dni-plaintext\">7197.1</div></td><td><div class=\"dni-plaintext\">3360.65679731</div></td><td><div class=\"dni-plaintext\">7579</div></td></tr><tr><td>13</td><td><span>2019-12-26 00:00:00Z</span></td><td><div class=\"dni-plaintext\">7193.0</div></td><td><div class=\"dni-plaintext\">7428.9</div></td><td><div class=\"dni-plaintext\">7150.0</div></td><td><div class=\"dni-plaintext\">7195.5</div></td><td><div class=\"dni-plaintext\">7250.4</div></td><td><div class=\"dni-plaintext\">3667.03100747</div></td><td><div class=\"dni-plaintext\">10268</div></td></tr><tr><td>14</td><td><span>2019-12-27 00:00:00Z</span></td><td><div class=\"dni-plaintext\">7196.4</div></td><td><div class=\"dni-plaintext\">7255.0</div></td><td><div class=\"dni-plaintext\">6934.8</div></td><td><div class=\"dni-plaintext\">7246.4</div></td><td><div class=\"dni-plaintext\">7165.4</div></td><td><div class=\"dni-plaintext\">3927.39409090</div></td><td><div class=\"dni-plaintext\">10764</div></td></tr><tr><td>15</td><td><span>2019-12-28 00:00:00Z</span></td><td><div class=\"dni-plaintext\">7246.6</div></td><td><div class=\"dni-plaintext\">7350.0</div></td><td><div class=\"dni-plaintext\">7234.9</div></td><td><div class=\"dni-plaintext\">7300.1</div></td><td><div class=\"dni-plaintext\">7300.6</div></td><td><div class=\"dni-plaintext\">2522.15801625</div></td><td><div class=\"dni-plaintext\">6891</div></td></tr><tr><td>16</td><td><span>2019-12-29 00:00:00Z</span></td><td><div class=\"dni-plaintext\">7300.6</div></td><td><div class=\"dni-plaintext\">7531.4</div></td><td><div class=\"dni-plaintext\">7280.0</div></td><td><div class=\"dni-plaintext\">7391.0</div></td><td><div class=\"dni-plaintext\">7393.8</div></td><td><div class=\"dni-plaintext\">3018.85255099</div></td><td><div class=\"dni-plaintext\">9257</div></td></tr><tr><td>17</td><td><span>2019-12-30 00:00:00Z</span></td><td><div class=\"dni-plaintext\">7383.4</div></td><td><div class=\"dni-plaintext\">7383.4</div></td><td><div class=\"dni-plaintext\">7200.0</div></td><td><div class=\"dni-plaintext\">7209.7</div></td><td><div class=\"dni-plaintext\">7273.6</div></td><td><div class=\"dni-plaintext\">3737.33575952</div></td><td><div class=\"dni-plaintext\">8486</div></td></tr><tr><td>18</td><td><span>2019-12-31 00:00:00Z</span></td><td><div class=\"dni-plaintext\">7216.4</div></td><td><div class=\"dni-plaintext\">7301.1</div></td><td><div class=\"dni-plaintext\">7110.0</div></td><td><div class=\"dni-plaintext\">7168.3</div></td><td><div class=\"dni-plaintext\">7192.9</div></td><td><div class=\"dni-plaintext\">2652.13508878</div></td><td><div class=\"dni-plaintext\">7734</div></td></tr><tr><td>19</td><td><span>2020-01-01 00:00:00Z</span></td><td><div class=\"dni-plaintext\">7168.3</div></td><td><div class=\"dni-plaintext\">7235.0</div></td><td><div class=\"dni-plaintext\">7150.0</div></td><td><div class=\"dni-plaintext\">7174.4</div></td><td><div class=\"dni-plaintext\">7196.5</div></td><td><div class=\"dni-plaintext\">1827.63489373</div></td><td><div class=\"dni-plaintext\">5611</div></td></tr><tr><td colspan=\"9\">(700 more)</td></tr></tbody></table>"
      ]
     },
     "metadata": {},
     "output_type": "display_data"
    }
   ],
   "source": [
    "var result_kline = client.GetKlinesAsync(\"BTCUSD\", KlineInterval.OneDay, new DateTime(2012, 1, 1)).Result;\n",
    "\n",
    "result_kline.Data.Data"
   ]
  },
  {
   "cell_type": "code",
   "execution_count": null,
   "metadata": {
    "dotnet_interactive": {
     "language": "csharp"
    }
   },
   "outputs": [
    {
     "data": {
      "text/html": [
       "<table><thead><tr><th><i>index</i></th><th>Timestamp</th><th>Open</th><th>High</th><th>Low</th><th>Close</th><th>VolumeWeightedAveragePrice</th><th>Volume</th><th>TradeCount</th></tr></thead><tbody><tr><td>0</td><td><span>2021-06-03 00:00:00Z</span></td><td><div class=\"dni-plaintext\">37565.3</div></td><td><div class=\"dni-plaintext\">39471.0</div></td><td><div class=\"dni-plaintext\">31017.4</div></td><td><div class=\"dni-plaintext\">37396.4</div></td><td><div class=\"dni-plaintext\">35337.7</div></td><td><div class=\"dni-plaintext\">45013.61289771</div></td><td><div class=\"dni-plaintext\">328672</div></td></tr><tr><td>1</td><td><span>2021-06-10 00:00:00Z</span></td><td><div class=\"dni-plaintext\">37398.9</div></td><td><div class=\"dni-plaintext\">41341.8</div></td><td><div class=\"dni-plaintext\">34680.0</div></td><td><div class=\"dni-plaintext\">38337.1</div></td><td><div class=\"dni-plaintext\">38223.0</div></td><td><div class=\"dni-plaintext\">48283.24920900</div></td><td><div class=\"dni-plaintext\">354378</div></td></tr><tr><td>2</td><td><span>2021-06-17 00:00:00Z</span></td><td><div class=\"dni-plaintext\">38337.1</div></td><td><div class=\"dni-plaintext\">39561.4</div></td><td><div class=\"dni-plaintext\">28816.6</div></td><td><div class=\"dni-plaintext\">33683.3</div></td><td><div class=\"dni-plaintext\">33923.1</div></td><td><div class=\"dni-plaintext\">57208.85809225</div></td><td><div class=\"dni-plaintext\">400823</div></td></tr><tr><td>3</td><td><span>2021-06-24 00:00:00Z</span></td><td><div class=\"dni-plaintext\">33685.8</div></td><td><div class=\"dni-plaintext\">36643.2</div></td><td><div class=\"dni-plaintext\">30179.0</div></td><td><div class=\"dni-plaintext\">35046.2</div></td><td><div class=\"dni-plaintext\">33705.7</div></td><td><div class=\"dni-plaintext\">34014.12689070</div></td><td><div class=\"dni-plaintext\">250779</div></td></tr><tr><td>4</td><td><span>2021-07-01 00:00:00Z</span></td><td><div class=\"dni-plaintext\">35070.4</div></td><td><div class=\"dni-plaintext\">35948.9</div></td><td><div class=\"dni-plaintext\">32717.2</div></td><td><div class=\"dni-plaintext\">33885.1</div></td><td><div class=\"dni-plaintext\">34075.4</div></td><td><div class=\"dni-plaintext\">21154.48806599</div></td><td><div class=\"dni-plaintext\">169621</div></td></tr><tr><td>5</td><td><span>2021-07-08 00:00:00Z</span></td><td><div class=\"dni-plaintext\">33885.1</div></td><td><div class=\"dni-plaintext\">34665.7</div></td><td><div class=\"dni-plaintext\">31555.6</div></td><td><div class=\"dni-plaintext\">32815.2</div></td><td><div class=\"dni-plaintext\">33060.6</div></td><td><div class=\"dni-plaintext\">21121.40336717</div></td><td><div class=\"dni-plaintext\">152738</div></td></tr><tr><td>6</td><td><span>2021-07-15 00:00:00Z</span></td><td><div class=\"dni-plaintext\">32815.2</div></td><td><div class=\"dni-plaintext\">33188.3</div></td><td><div class=\"dni-plaintext\">29288.6</div></td><td><div class=\"dni-plaintext\">32125.0</div></td><td><div class=\"dni-plaintext\">31189.4</div></td><td><div class=\"dni-plaintext\">24798.61231894</div></td><td><div class=\"dni-plaintext\">169390</div></td></tr><tr><td>7</td><td><span>2021-07-22 00:00:00Z</span></td><td><div class=\"dni-plaintext\">32125.0</div></td><td><div class=\"dni-plaintext\">40919.1</div></td><td><div class=\"dni-plaintext\">31722.4</div></td><td><div class=\"dni-plaintext\">40011.0</div></td><td><div class=\"dni-plaintext\">37150.6</div></td><td><div class=\"dni-plaintext\">31542.32166381</div></td><td><div class=\"dni-plaintext\">250041</div></td></tr><tr><td>8</td><td><span>2021-07-29 00:00:00Z</span></td><td><div class=\"dni-plaintext\">40025.4</div></td><td><div class=\"dni-plaintext\">42598.7</div></td><td><div class=\"dni-plaintext\">37527.9</div></td><td><div class=\"dni-plaintext\">39749.0</div></td><td><div class=\"dni-plaintext\">39987.6</div></td><td><div class=\"dni-plaintext\">24452.36844046</div></td><td><div class=\"dni-plaintext\">192776</div></td></tr><tr><td>9</td><td><span>2021-08-05 00:00:00Z</span></td><td><div class=\"dni-plaintext\">39749.0</div></td><td><div class=\"dni-plaintext\">46736.4</div></td><td><div class=\"dni-plaintext\">37355.0</div></td><td><div class=\"dni-plaintext\">45571.7</div></td><td><div class=\"dni-plaintext\">43524.9</div></td><td><div class=\"dni-plaintext\">30456.22807186</div></td><td><div class=\"dni-plaintext\">259742</div></td></tr><tr><td>10</td><td><span>2021-08-12 00:00:00Z</span></td><td><div class=\"dni-plaintext\">45570.0</div></td><td><div class=\"dni-plaintext\">48164.0</div></td><td><div class=\"dni-plaintext\">43800.1</div></td><td><div class=\"dni-plaintext\">44714.7</div></td><td><div class=\"dni-plaintext\">46016.3</div></td><td><div class=\"dni-plaintext\">21703.34622139</div></td><td><div class=\"dni-plaintext\">204434</div></td></tr><tr><td>11</td><td><span>2021-08-19 00:00:00Z</span></td><td><div class=\"dni-plaintext\">44720.2</div></td><td><div class=\"dni-plaintext\">50500.0</div></td><td><div class=\"dni-plaintext\">44000.0</div></td><td><div class=\"dni-plaintext\">48991.3</div></td><td><div class=\"dni-plaintext\">48346.3</div></td><td><div class=\"dni-plaintext\">19489.22340387</div></td><td><div class=\"dni-plaintext\">201168</div></td></tr><tr><td>12</td><td><span>2021-08-26 00:00:00Z</span></td><td><div class=\"dni-plaintext\">48991.4</div></td><td><div class=\"dni-plaintext\">49653.9</div></td><td><div class=\"dni-plaintext\">46284.8</div></td><td><div class=\"dni-plaintext\">48872.2</div></td><td><div class=\"dni-plaintext\">47884.5</div></td><td><div class=\"dni-plaintext\">16717.66205248</div></td><td><div class=\"dni-plaintext\">170843</div></td></tr><tr><td>13</td><td><span>2021-09-02 00:00:00Z</span></td><td><div class=\"dni-plaintext\">48872.1</div></td><td><div class=\"dni-plaintext\">52900.0</div></td><td><div class=\"dni-plaintext\">42000.0</div></td><td><div class=\"dni-plaintext\">46073.4</div></td><td><div class=\"dni-plaintext\">49100.5</div></td><td><div class=\"dni-plaintext\">25741.34413536</div></td><td><div class=\"dni-plaintext\">238999</div></td></tr><tr><td>14</td><td><span>2021-09-09 00:00:00Z</span></td><td><div class=\"dni-plaintext\">46064.3</div></td><td><div class=\"dni-plaintext\">48481.0</div></td><td><div class=\"dni-plaintext\">43374.9</div></td><td><div class=\"dni-plaintext\">48152.3</div></td><td><div class=\"dni-plaintext\">45906.3</div></td><td><div class=\"dni-plaintext\">16021.92933295</div></td><td><div class=\"dni-plaintext\">173032</div></td></tr><tr><td>15</td><td><span>2021-09-16 00:00:00Z</span></td><td><div class=\"dni-plaintext\">48152.3</div></td><td><div class=\"dni-plaintext\">48800.0</div></td><td><div class=\"dni-plaintext\">39579.0</div></td><td><div class=\"dni-plaintext\">43562.8</div></td><td><div class=\"dni-plaintext\">44285.2</div></td><td><div class=\"dni-plaintext\">23397.87909583</div></td><td><div class=\"dni-plaintext\">202137</div></td></tr><tr><td>16</td><td><span>2021-09-23 00:00:00Z</span></td><td><div class=\"dni-plaintext\">43563.3</div></td><td><div class=\"dni-plaintext\">45153.0</div></td><td><div class=\"dni-plaintext\">40750.0</div></td><td><div class=\"dni-plaintext\">41524.8</div></td><td><div class=\"dni-plaintext\">42882.4</div></td><td><div class=\"dni-plaintext\">17816.29551043</div></td><td><div class=\"dni-plaintext\">169694</div></td></tr><tr><td>17</td><td><span>2021-09-30 00:00:00Z</span></td><td><div class=\"dni-plaintext\">41523.9</div></td><td><div class=\"dni-plaintext\">55770.0</div></td><td><div class=\"dni-plaintext\">41423.7</div></td><td><div class=\"dni-plaintext\">55350.2</div></td><td><div class=\"dni-plaintext\">49035.1</div></td><td><div class=\"dni-plaintext\">27096.97765660</div></td><td><div class=\"dni-plaintext\">227437</div></td></tr><tr><td>18</td><td><span>2021-10-07 00:00:00Z</span></td><td><div class=\"dni-plaintext\">55350.2</div></td><td><div class=\"dni-plaintext\">57837.7</div></td><td><div class=\"dni-plaintext\">53399.8</div></td><td><div class=\"dni-plaintext\">57381.2</div></td><td><div class=\"dni-plaintext\">55512.5</div></td><td><div class=\"dni-plaintext\">18794.19802120</div></td><td><div class=\"dni-plaintext\">206635</div></td></tr><tr><td>19</td><td><span>2021-10-14 00:00:00Z</span></td><td><div class=\"dni-plaintext\">57381.2</div></td><td><div class=\"dni-plaintext\">66982.2</div></td><td><div class=\"dni-plaintext\">56825.0</div></td><td><div class=\"dni-plaintext\">66035.8</div></td><td><div class=\"dni-plaintext\">61553.2</div></td><td><div class=\"dni-plaintext\">22395.95793467</div></td><td><div class=\"dni-plaintext\">249753</div></td></tr><tr><td colspan=\"9\">(6 more)</td></tr></tbody></table>"
      ]
     },
     "metadata": {},
     "output_type": "display_data"
    }
   ],
   "source": [
    "result_kline.Data.Data.Skip(400)"
   ]
  },
  {
   "cell_type": "code",
   "execution_count": null,
   "metadata": {
    "dotnet_interactive": {
     "language": "csharp"
    }
   },
   "outputs": [],
   "source": [
    "var result_kline = client.GetKlinesAsync(\"BTCUSD\", KlineInterval.OneDay, new DateTime(2021, 11, 1)).Result;"
   ]
  },
  {
   "cell_type": "code",
   "execution_count": null,
   "metadata": {
    "dotnet_interactive": {
     "language": "csharp"
    }
   },
   "outputs": [
    {
     "data": {
      "text/html": [
       "<table><thead><tr><th><i>index</i></th><th>Timestamp</th><th>Open</th><th>High</th><th>Low</th><th>Close</th><th>VolumeWeightedAveragePrice</th><th>Volume</th><th>TradeCount</th></tr></thead><tbody><tr><td>0</td><td><span>2021-11-02 00:00:00Z</span></td><td><div class=\"dni-plaintext\">60954.5</div></td><td><div class=\"dni-plaintext\">64327.0</div></td><td><div class=\"dni-plaintext\">60665.9</div></td><td><div class=\"dni-plaintext\">63279.7</div></td><td><div class=\"dni-plaintext\">63051.2</div></td><td><div class=\"dni-plaintext\">2748.17239322</div></td><td><div class=\"dni-plaintext\">37462</div></td></tr><tr><td>1</td><td><span>2021-11-03 00:00:00Z</span></td><td><div class=\"dni-plaintext\">63279.8</div></td><td><div class=\"dni-plaintext\">63550.4</div></td><td><div class=\"dni-plaintext\">60810.3</div></td><td><div class=\"dni-plaintext\">62942.9</div></td><td><div class=\"dni-plaintext\">62551.7</div></td><td><div class=\"dni-plaintext\">2575.67753077</div></td><td><div class=\"dni-plaintext\">31653</div></td></tr><tr><td>2</td><td><span>2021-11-04 00:00:00Z</span></td><td><div class=\"dni-plaintext\">62938.0</div></td><td><div class=\"dni-plaintext\">63115.0</div></td><td><div class=\"dni-plaintext\">60644.2</div></td><td><div class=\"dni-plaintext\">61449.0</div></td><td><div class=\"dni-plaintext\">61660.8</div></td><td><div class=\"dni-plaintext\">1875.76279461</div></td><td><div class=\"dni-plaintext\">26603</div></td></tr><tr><td>3</td><td><span>2021-11-05 00:00:00Z</span></td><td><div class=\"dni-plaintext\">61448.9</div></td><td><div class=\"dni-plaintext\">62631.9</div></td><td><div class=\"dni-plaintext\">60804.4</div></td><td><div class=\"dni-plaintext\">61006.2</div></td><td><div class=\"dni-plaintext\">61469.4</div></td><td><div class=\"dni-plaintext\">1431.43066774</div></td><td><div class=\"dni-plaintext\">23089</div></td></tr><tr><td>4</td><td><span>2021-11-06 00:00:00Z</span></td><td><div class=\"dni-plaintext\">61007.4</div></td><td><div class=\"dni-plaintext\">61602.1</div></td><td><div class=\"dni-plaintext\">60129.8</div></td><td><div class=\"dni-plaintext\">61536.3</div></td><td><div class=\"dni-plaintext\">60938.3</div></td><td><div class=\"dni-plaintext\">1337.98498424</div></td><td><div class=\"dni-plaintext\">20253</div></td></tr><tr><td>5</td><td><span>2021-11-07 00:00:00Z</span></td><td><div class=\"dni-plaintext\">61535.4</div></td><td><div class=\"dni-plaintext\">63317.8</div></td><td><div class=\"dni-plaintext\">61388.0</div></td><td><div class=\"dni-plaintext\">63317.8</div></td><td><div class=\"dni-plaintext\">62261.3</div></td><td><div class=\"dni-plaintext\">1554.00196888</div></td><td><div class=\"dni-plaintext\">23475</div></td></tr><tr><td>6</td><td><span>2021-11-08 00:00:00Z</span></td><td><div class=\"dni-plaintext\">63319.6</div></td><td><div class=\"dni-plaintext\">67777.7</div></td><td><div class=\"dni-plaintext\">63319.6</div></td><td><div class=\"dni-plaintext\">67559.8</div></td><td><div class=\"dni-plaintext\">65719.5</div></td><td><div class=\"dni-plaintext\">3863.09584021</div></td><td><div class=\"dni-plaintext\">46043</div></td></tr><tr><td>7</td><td><span>2021-11-09 00:00:00Z</span></td><td><div class=\"dni-plaintext\">67550.8</div></td><td><div class=\"dni-plaintext\">68495.0</div></td><td><div class=\"dni-plaintext\">66316.0</div></td><td><div class=\"dni-plaintext\">66950.0</div></td><td><div class=\"dni-plaintext\">67451.2</div></td><td><div class=\"dni-plaintext\">3128.97221828</div></td><td><div class=\"dni-plaintext\">36642</div></td></tr><tr><td>8</td><td><span>2021-11-10 00:00:00Z</span></td><td><div class=\"dni-plaintext\">66950.1</div></td><td><div class=\"dni-plaintext\">68991.0</div></td><td><div class=\"dni-plaintext\">62700.1</div></td><td><div class=\"dni-plaintext\">64969.0</div></td><td><div class=\"dni-plaintext\">66196.3</div></td><td><div class=\"dni-plaintext\">6353.72059707</div></td><td><div class=\"dni-plaintext\">61082</div></td></tr><tr><td>9</td><td><span>2021-11-11 00:00:00Z</span></td><td><div class=\"dni-plaintext\">64969.0</div></td><td><div class=\"dni-plaintext\">65611.8</div></td><td><div class=\"dni-plaintext\">64108.2</div></td><td><div class=\"dni-plaintext\">64825.4</div></td><td><div class=\"dni-plaintext\">64926.7</div></td><td><div class=\"dni-plaintext\">1606.79177842</div></td><td><div class=\"dni-plaintext\">24439</div></td></tr><tr><td>10</td><td><span>2021-11-12 00:00:00Z</span></td><td><div class=\"dni-plaintext\">64825.1</div></td><td><div class=\"dni-plaintext\">65483.2</div></td><td><div class=\"dni-plaintext\">62300.5</div></td><td><div class=\"dni-plaintext\">64153.0</div></td><td><div class=\"dni-plaintext\">63805.9</div></td><td><div class=\"dni-plaintext\">3153.29539572</div></td><td><div class=\"dni-plaintext\">35616</div></td></tr><tr><td>11</td><td><span>2021-11-13 00:00:00Z</span></td><td><div class=\"dni-plaintext\">64151.3</div></td><td><div class=\"dni-plaintext\">64982.5</div></td><td><div class=\"dni-plaintext\">63415.0</div></td><td><div class=\"dni-plaintext\">64393.1</div></td><td><div class=\"dni-plaintext\">64095.6</div></td><td><div class=\"dni-plaintext\">1391.47442027</div></td><td><div class=\"dni-plaintext\">18319</div></td></tr><tr><td>12</td><td><span>2021-11-14 00:00:00Z</span></td><td><div class=\"dni-plaintext\">64394.5</div></td><td><div class=\"dni-plaintext\">65495.0</div></td><td><div class=\"dni-plaintext\">63636.0</div></td><td><div class=\"dni-plaintext\">65495.0</div></td><td><div class=\"dni-plaintext\">64593.2</div></td><td><div class=\"dni-plaintext\">1479.87272892</div></td><td><div class=\"dni-plaintext\">20821</div></td></tr><tr><td>13</td><td><span>2021-11-15 00:00:00Z</span></td><td><div class=\"dni-plaintext\">65495.0</div></td><td><div class=\"dni-plaintext\">66349.6</div></td><td><div class=\"dni-plaintext\">63423.1</div></td><td><div class=\"dni-plaintext\">63615.8</div></td><td><div class=\"dni-plaintext\">64952.5</div></td><td><div class=\"dni-plaintext\">2184.39391802</div></td><td><div class=\"dni-plaintext\">30333</div></td></tr><tr><td>14</td><td><span>2021-11-16 00:00:00Z</span></td><td><div class=\"dni-plaintext\">63615.8</div></td><td><div class=\"dni-plaintext\">63615.8</div></td><td><div class=\"dni-plaintext\">58630.0</div></td><td><div class=\"dni-plaintext\">60137.2</div></td><td><div class=\"dni-plaintext\">60858.0</div></td><td><div class=\"dni-plaintext\">5540.52398412</div></td><td><div class=\"dni-plaintext\">58354</div></td></tr><tr><td>15</td><td><span>2021-11-17 00:00:00Z</span></td><td><div class=\"dni-plaintext\">60137.2</div></td><td><div class=\"dni-plaintext\">60847.0</div></td><td><div class=\"dni-plaintext\">58400.0</div></td><td><div class=\"dni-plaintext\">60367.8</div></td><td><div class=\"dni-plaintext\">59902.4</div></td><td><div class=\"dni-plaintext\">3122.33470998</div></td><td><div class=\"dni-plaintext\">32352</div></td></tr><tr><td>16</td><td><span>2021-11-18 00:00:00Z</span></td><td><div class=\"dni-plaintext\">60368.6</div></td><td><div class=\"dni-plaintext\">60964.4</div></td><td><div class=\"dni-plaintext\">56526.2</div></td><td><div class=\"dni-plaintext\">56921.7</div></td><td><div class=\"dni-plaintext\">58685.5</div></td><td><div class=\"dni-plaintext\">4581.79458966</div></td><td><div class=\"dni-plaintext\">48290</div></td></tr><tr><td>17</td><td><span>2021-11-19 00:00:00Z</span></td><td><div class=\"dni-plaintext\">56910.8</div></td><td><div class=\"dni-plaintext\">58384.5</div></td><td><div class=\"dni-plaintext\">55674.0</div></td><td><div class=\"dni-plaintext\">58099.6</div></td><td><div class=\"dni-plaintext\">57165.4</div></td><td><div class=\"dni-plaintext\">2241.91928531</div></td><td><div class=\"dni-plaintext\">33346</div></td></tr><tr><td>18</td><td><span>2021-11-20 00:00:00Z</span></td><td><div class=\"dni-plaintext\">58107.2</div></td><td><div class=\"dni-plaintext\">59879.0</div></td><td><div class=\"dni-plaintext\">57435.2</div></td><td><div class=\"dni-plaintext\">59744.2</div></td><td><div class=\"dni-plaintext\">58779.4</div></td><td><div class=\"dni-plaintext\">1745.52134658</div></td><td><div class=\"dni-plaintext\">23413</div></td></tr><tr><td>19</td><td><span>2021-11-21 00:00:00Z</span></td><td><div class=\"dni-plaintext\">59744.2</div></td><td><div class=\"dni-plaintext\">60050.0</div></td><td><div class=\"dni-plaintext\">58532.8</div></td><td><div class=\"dni-plaintext\">58646.2</div></td><td><div class=\"dni-plaintext\">59182.4</div></td><td><div class=\"dni-plaintext\">1374.08430752</div></td><td><div class=\"dni-plaintext\">21166</div></td></tr><tr><td colspan=\"9\">(10 more)</td></tr></tbody></table>"
      ]
     },
     "metadata": {},
     "output_type": "display_data"
    }
   ],
   "source": [
    "result_kline.Data.Data"
   ]
  },
  {
   "cell_type": "code",
   "execution_count": null,
   "metadata": {
    "dotnet_interactive": {
     "language": "csharp"
    }
   },
   "outputs": [],
   "source": [
    "var symbols = client.GetSymbolsAsync().Result;"
   ]
  },
  {
   "cell_type": "code",
   "execution_count": null,
   "metadata": {
    "dotnet_interactive": {
     "language": "csharp"
    }
   },
   "outputs": [],
   "source": [
    "var history = client.GetTradeHistoryAsync(\"BTCUSD\").Result;"
   ]
  },
  {
   "cell_type": "code",
   "execution_count": null,
   "metadata": {
    "dotnet_interactive": {
     "language": "csharp"
    }
   },
   "outputs": [
    {
     "data": {
      "text/html": [
       "<table><thead><tr><th><i>index</i></th><th>Price</th><th>Quantity</th><th>Timestamp</th><th>Side</th><th>Type</th><th>Misc</th></tr></thead><tbody><tr><td>0</td><td><div class=\"dni-plaintext\">57100.00000</div></td><td><div class=\"dni-plaintext\">0.00334186</div></td><td><span>2021-11-30 23:08:21Z</span></td><td><span>Sell</span></td><td><span>Limit</span></td><td></td></tr><tr><td>1</td><td><div class=\"dni-plaintext\">57100.20000</div></td><td><div class=\"dni-plaintext\">0.00153179</div></td><td><span>2021-11-30 23:08:35Z</span></td><td><span>Buy</span></td><td><span>Market</span></td><td></td></tr><tr><td>2</td><td><div class=\"dni-plaintext\">57100.20000</div></td><td><div class=\"dni-plaintext\">0.00232838</div></td><td><span>2021-11-30 23:08:35Z</span></td><td><span>Buy</span></td><td><span>Market</span></td><td></td></tr><tr><td>3</td><td><div class=\"dni-plaintext\">57100.20000</div></td><td><div class=\"dni-plaintext\">0.00200000</div></td><td><span>2021-11-30 23:08:43Z</span></td><td><span>Buy</span></td><td><span>Market</span></td><td></td></tr><tr><td>4</td><td><div class=\"dni-plaintext\">57100.20000</div></td><td><div class=\"dni-plaintext\">0.04067162</div></td><td><span>2021-11-30 23:08:48Z</span></td><td><span>Buy</span></td><td><span>Limit</span></td><td></td></tr><tr><td>5</td><td><div class=\"dni-plaintext\">57107.50000</div></td><td><div class=\"dni-plaintext\">0.00119681</div></td><td><span>2021-11-30 23:08:48Z</span></td><td><span>Buy</span></td><td><span>Limit</span></td><td></td></tr><tr><td>6</td><td><div class=\"dni-plaintext\">57119.10000</div></td><td><div class=\"dni-plaintext\">0.05575162</div></td><td><span>2021-11-30 23:08:48Z</span></td><td><span>Buy</span></td><td><span>Limit</span></td><td></td></tr><tr><td>7</td><td><div class=\"dni-plaintext\">57119.90000</div></td><td><div class=\"dni-plaintext\">0.04519288</div></td><td><span>2021-11-30 23:08:48Z</span></td><td><span>Buy</span></td><td><span>Limit</span></td><td></td></tr><tr><td>8</td><td><div class=\"dni-plaintext\">57119.90000</div></td><td><div class=\"dni-plaintext\">0.02972996</div></td><td><span>2021-11-30 23:08:48Z</span></td><td><span>Buy</span></td><td><span>Limit</span></td><td></td></tr><tr><td>9</td><td><div class=\"dni-plaintext\">57118.30000</div></td><td><div class=\"dni-plaintext\">0.01478813</div></td><td><span>2021-11-30 23:08:53Z</span></td><td><span>Buy</span></td><td><span>Market</span></td><td></td></tr><tr><td>10</td><td><div class=\"dni-plaintext\">57121.10000</div></td><td><div class=\"dni-plaintext\">0.00109152</div></td><td><span>2021-11-30 23:08:57Z</span></td><td><span>Buy</span></td><td><span>Limit</span></td><td></td></tr><tr><td>11</td><td><div class=\"dni-plaintext\">57121.60000</div></td><td><div class=\"dni-plaintext\">0.00018366</div></td><td><span>2021-11-30 23:08:57Z</span></td><td><span>Buy</span></td><td><span>Limit</span></td><td></td></tr><tr><td>12</td><td><div class=\"dni-plaintext\">57124.20000</div></td><td><div class=\"dni-plaintext\">0.00129914</div></td><td><span>2021-11-30 23:08:57Z</span></td><td><span>Buy</span></td><td><span>Limit</span></td><td></td></tr><tr><td>13</td><td><div class=\"dni-plaintext\">57143.60000</div></td><td><div class=\"dni-plaintext\">0.00132071</div></td><td><span>2021-11-30 23:09:06Z</span></td><td><span>Sell</span></td><td><span>Limit</span></td><td></td></tr><tr><td>14</td><td><div class=\"dni-plaintext\">57143.70000</div></td><td><div class=\"dni-plaintext\">0.00233486</div></td><td><span>2021-11-30 23:09:07Z</span></td><td><span>Buy</span></td><td><span>Market</span></td><td></td></tr><tr><td>15</td><td><div class=\"dni-plaintext\">57153.70000</div></td><td><div class=\"dni-plaintext\">0.28000000</div></td><td><span>2021-11-30 23:09:07Z</span></td><td><span>Buy</span></td><td><span>Market</span></td><td></td></tr><tr><td>16</td><td><div class=\"dni-plaintext\">57154.60000</div></td><td><div class=\"dni-plaintext\">1.71766514</div></td><td><span>2021-11-30 23:09:07Z</span></td><td><span>Buy</span></td><td><span>Market</span></td><td></td></tr><tr><td>17</td><td><div class=\"dni-plaintext\">57152.90000</div></td><td><div class=\"dni-plaintext\">0.00871197</div></td><td><span>2021-11-30 23:09:20Z</span></td><td><span>Buy</span></td><td><span>Market</span></td><td></td></tr><tr><td>18</td><td><div class=\"dni-plaintext\">57159.90000</div></td><td><div class=\"dni-plaintext\">0.00278000</div></td><td><span>2021-11-30 23:09:30Z</span></td><td><span>Sell</span></td><td><span>Limit</span></td><td></td></tr><tr><td>19</td><td><div class=\"dni-plaintext\">57159.90000</div></td><td><div class=\"dni-plaintext\">0.01970000</div></td><td><span>2021-11-30 23:09:50Z</span></td><td><span>Sell</span></td><td><span>Limit</span></td><td></td></tr><tr><td colspan=\"7\">(980 more)</td></tr></tbody></table>"
      ]
     },
     "metadata": {},
     "output_type": "display_data"
    }
   ],
   "source": [
    "history.Data.Data"
   ]
  },
  {
   "cell_type": "code",
   "execution_count": null,
   "metadata": {
    "dotnet_interactive": {
     "language": "csharp"
    }
   },
   "outputs": [
    {
     "data": {
      "text/html": [
       "<table><thead><tr><th><i>index</i></th><th>Price</th><th>Quantity</th><th>Timestamp</th><th>Side</th><th>Type</th><th>Misc</th></tr></thead><tbody><tr><td>0</td><td><div class=\"dni-plaintext\">7168.30000</div></td><td><div class=\"dni-plaintext\">0.04000000</div></td><td><span>2020-01-01 00:00:01Z</span></td><td><span>Buy</span></td><td><span>Market</span></td><td></td></tr><tr><td>1</td><td><div class=\"dni-plaintext\">7168.30000</div></td><td><div class=\"dni-plaintext\">0.96000000</div></td><td><span>2020-01-01 00:00:01Z</span></td><td><span>Buy</span></td><td><span>Market</span></td><td></td></tr><tr><td>2</td><td><div class=\"dni-plaintext\">7170.50000</div></td><td><div class=\"dni-plaintext\">0.00200000</div></td><td><span>2020-01-01 00:00:02Z</span></td><td><span>Buy</span></td><td><span>Market</span></td><td></td></tr><tr><td>3</td><td><div class=\"dni-plaintext\">7169.20000</div></td><td><div class=\"dni-plaintext\">0.00200000</div></td><td><span>2020-01-01 00:00:04Z</span></td><td><span>Buy</span></td><td><span>Market</span></td><td></td></tr><tr><td>4</td><td><div class=\"dni-plaintext\">7169.20000</div></td><td><div class=\"dni-plaintext\">0.00200000</div></td><td><span>2020-01-01 00:00:04Z</span></td><td><span>Buy</span></td><td><span>Market</span></td><td></td></tr><tr><td>5</td><td><div class=\"dni-plaintext\">7169.20000</div></td><td><div class=\"dni-plaintext\">0.00200000</div></td><td><span>2020-01-01 00:00:05Z</span></td><td><span>Buy</span></td><td><span>Market</span></td><td></td></tr><tr><td>6</td><td><div class=\"dni-plaintext\">7169.20000</div></td><td><div class=\"dni-plaintext\">0.00200000</div></td><td><span>2020-01-01 00:00:06Z</span></td><td><span>Buy</span></td><td><span>Market</span></td><td></td></tr><tr><td>7</td><td><div class=\"dni-plaintext\">7163.80000</div></td><td><div class=\"dni-plaintext\">0.30000000</div></td><td><span>2020-01-01 00:00:14Z</span></td><td><span>Sell</span></td><td><span>Market</span></td><td></td></tr><tr><td>8</td><td><div class=\"dni-plaintext\">7163.40000</div></td><td><div class=\"dni-plaintext\">0.00292661</div></td><td><span>2020-01-01 00:01:08Z</span></td><td><span>Buy</span></td><td><span>Market</span></td><td></td></tr><tr><td>9</td><td><div class=\"dni-plaintext\">7163.40000</div></td><td><div class=\"dni-plaintext\">0.00680000</div></td><td><span>2020-01-01 00:01:44Z</span></td><td><span>Buy</span></td><td><span>Limit</span></td><td></td></tr><tr><td>10</td><td><div class=\"dni-plaintext\">7163.40000</div></td><td><div class=\"dni-plaintext\">2.99027339</div></td><td><span>2020-01-01 00:01:50Z</span></td><td><span>Buy</span></td><td><span>Limit</span></td><td></td></tr><tr><td>11</td><td><div class=\"dni-plaintext\">7163.40000</div></td><td><div class=\"dni-plaintext\">1.10000000</div></td><td><span>2020-01-01 00:01:50Z</span></td><td><span>Buy</span></td><td><span>Limit</span></td><td></td></tr><tr><td>12</td><td><div class=\"dni-plaintext\">7163.40000</div></td><td><div class=\"dni-plaintext\">2.00000000</div></td><td><span>2020-01-01 00:01:50Z</span></td><td><span>Buy</span></td><td><span>Limit</span></td><td></td></tr><tr><td>13</td><td><div class=\"dni-plaintext\">7163.40000</div></td><td><div class=\"dni-plaintext\">1.43408661</div></td><td><span>2020-01-01 00:01:50Z</span></td><td><span>Buy</span></td><td><span>Limit</span></td><td></td></tr><tr><td>14</td><td><div class=\"dni-plaintext\">7163.40000</div></td><td><div class=\"dni-plaintext\">0.01829149</div></td><td><span>2020-01-01 00:01:54Z</span></td><td><span>Buy</span></td><td><span>Market</span></td><td></td></tr><tr><td>15</td><td><div class=\"dni-plaintext\">7163.30000</div></td><td><div class=\"dni-plaintext\">0.22336755</div></td><td><span>2020-01-01 00:02:08Z</span></td><td><span>Sell</span></td><td><span>Limit</span></td><td></td></tr><tr><td>16</td><td><div class=\"dni-plaintext\">7163.30000</div></td><td><div class=\"dni-plaintext\">0.03563245</div></td><td><span>2020-01-01 00:02:14Z</span></td><td><span>Sell</span></td><td><span>Limit</span></td><td></td></tr><tr><td>17</td><td><div class=\"dni-plaintext\">7162.00000</div></td><td><div class=\"dni-plaintext\">0.57899999</div></td><td><span>2020-01-01 00:02:14Z</span></td><td><span>Sell</span></td><td><span>Limit</span></td><td></td></tr><tr><td>18</td><td><div class=\"dni-plaintext\">7160.00000</div></td><td><div class=\"dni-plaintext\">0.41899000</div></td><td><span>2020-01-01 00:02:17Z</span></td><td><span>Sell</span></td><td><span>Limit</span></td><td></td></tr><tr><td>19</td><td><div class=\"dni-plaintext\">7159.40000</div></td><td><div class=\"dni-plaintext\">0.19962570</div></td><td><span>2020-01-01 00:02:54Z</span></td><td><span>Buy</span></td><td><span>Market</span></td><td></td></tr><tr><td colspan=\"7\">(980 more)</td></tr></tbody></table>"
      ]
     },
     "metadata": {},
     "output_type": "display_data"
    }
   ],
   "source": [
    "var history = client.GetTradeHistoryAsync(\"BTCUSD\", new DateTime(2020, 1, 1)).Result;\n",
    "\n",
    "history.Data.Data"
   ]
  },
  {
   "cell_type": "code",
   "execution_count": null,
   "metadata": {
    "dotnet_interactive": {
     "language": "csharp"
    }
   },
   "outputs": [],
   "source": [
    "var assets = client.GetAssetsAsync().Result;"
   ]
  },
  {
   "cell_type": "code",
   "execution_count": null,
   "metadata": {
    "dotnet_interactive": {
     "language": "csharp"
    }
   },
   "outputs": [
    {
     "data": {
      "text/html": [
       "<table><thead><tr><th><i>index</i></th><th>Key</th><th>Value</th></tr></thead><tbody><tr><td>0</td><td>XXBT</td><td><table><thead><tr><th>AlternateName</th><th>AssetClass</th><th>Decimals</th><th>DisplayDecimals</th></tr></thead><tbody><tr><td><div class=\"dni-plaintext\">XBT</div></td><td><div class=\"dni-plaintext\">currency</div></td><td><div class=\"dni-plaintext\">10</div></td><td><div class=\"dni-plaintext\">5</div></td></tr></tbody></table></td></tr></tbody></table>"
      ]
     },
     "metadata": {},
     "output_type": "display_data"
    }
   ],
   "source": [
    "assets.Data.Where(info => info.Key == \"XXBT\")"
   ]
  },
  {
   "cell_type": "code",
   "execution_count": null,
   "metadata": {
    "dotnet_interactive": {
     "language": "csharp"
    }
   },
   "outputs": [],
   "source": [
    "var ledger = client.GetLedgerInfoAsync(new [] { \"BTCUSD\" }).Result;"
   ]
  },
  {
   "cell_type": "code",
   "execution_count": null,
   "metadata": {
    "dotnet_interactive": {
     "language": "csharp"
    }
   },
   "outputs": [
    {
     "data": {
      "text/html": [
       "<table><thead><tr><th>ResponseStatusCode</th><th>ResponseHeaders</th><th>Data</th><th>OriginalData</th><th>Error</th><th>Success</th></tr></thead><tbody><tr><td><div class=\"dni-plaintext\">&lt;null&gt;</div></td><td><div class=\"dni-plaintext\">&lt;null&gt;</div></td><td><div class=\"dni-plaintext\">&lt;null&gt;</div></td><td><div class=\"dni-plaintext\">&lt;null&gt;</div></td><td><div class=\"dni-plaintext\">{ : No credentials provided for private endpoint : Code: &lt;null&gt;, Message: No credentials provided for private endpoint, Data: &lt;null&gt; }</div></td><td><div class=\"dni-plaintext\">False</div></td></tr></tbody></table>"
      ]
     },
     "metadata": {},
     "output_type": "display_data"
    }
   ],
   "source": [
    "ledger"
   ]
  },
  {
   "cell_type": "code",
   "execution_count": null,
   "metadata": {
    "dotnet_interactive": {
     "language": "csharp"
    }
   },
   "outputs": [],
   "source": [
    "var order_book = new KrakenSymbolOrderBook(\"BTC/USD\", 10);\n",
    "\n",
    "order_book.OnStatusChange += (old_status, new_status) => Console.WriteLine($\"{old_status} {new_status}\");\n",
    "\n",
    "order_book.OnOrderBookUpdate += abc => Console.WriteLine(\"updated\");\n",
    "\n"
   ]
  },
  {
   "cell_type": "code",
   "execution_count": null,
   "metadata": {
    "dotnet_interactive": {
     "language": "csharp"
    }
   },
   "outputs": [
    {
     "name": "stdout",
     "output_type": "stream",
     "text": [
      "Disconnected Connecting\r\n",
      "Connecting Syncing\r\n",
      "updated\r\n",
      "Syncing Synced\r\n"
     ]
    }
   ],
   "source": [
    "var start_result = await order_book.StartAsync();"
   ]
  },
  {
   "cell_type": "code",
   "execution_count": null,
   "metadata": {
    "dotnet_interactive": {
     "language": "csharp"
    }
   },
   "outputs": [
    {
     "data": {
      "text/html": [
       "<span>Synced</span>"
      ]
     },
     "metadata": {},
     "output_type": "display_data"
    }
   ],
   "source": [
    "order_book.Status"
   ]
  },
  {
   "cell_type": "code",
   "execution_count": null,
   "metadata": {
    "dotnet_interactive": {
     "language": "csharp"
    }
   },
   "outputs": [
    {
     "data": {
      "text/html": [
       "<div class=\"dni-plaintext\">10</div>"
      ]
     },
     "metadata": {},
     "output_type": "display_data"
    }
   ],
   "source": [
    "order_book.AskCount"
   ]
  },
  {
   "cell_type": "code",
   "execution_count": null,
   "metadata": {
    "dotnet_interactive": {
     "language": "csharp"
    }
   },
   "outputs": [
    {
     "ename": "Error",
     "evalue": "(1,1): error CS0670: Field cannot have void type",
     "output_type": "error",
     "traceback": [
      "(1,1): error CS0670: Field cannot have void type"
     ]
    }
   ],
   "source": [
    "var stop_result = await order_book.StopAsync();"
   ]
  },
  {
   "cell_type": "code",
   "execution_count": null,
   "metadata": {
    "dotnet_interactive": {
     "language": "csharp"
    }
   },
   "outputs": [
    {
     "ename": "Error",
     "evalue": "(1,23): error CS0246: The type or namespace name 'HttpClient' could not be found (are you missing a using directive or an assembly reference?)",
     "output_type": "error",
     "traceback": [
      "(1,23): error CS0246: The type or namespace name 'HttpClient' could not be found (are you missing a using directive or an assembly reference?)"
     ]
    }
   ],
   "source": [
    "var http_client = new HttpClient();"
   ]
  },
  {
   "cell_type": "code",
   "execution_count": null,
   "metadata": {
    "dotnet_interactive": {
     "language": "csharp"
    }
   },
   "outputs": [],
   "source": []
  }
 ],
 "metadata": {
  "kernelspec": {
   "display_name": ".NET (C#)",
   "language": "C#",
   "name": ".net-csharp"
  },
  "language_info": {
   "name": "C#"
  }
 },
 "nbformat": 4,
 "nbformat_minor": 2
}
